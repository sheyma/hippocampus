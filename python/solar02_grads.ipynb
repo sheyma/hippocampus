{
 "cells": [
  {
   "cell_type": "code",
   "execution_count": 1,
   "metadata": {},
   "outputs": [],
   "source": [
    "import os\n",
    "import h5py\n",
    "import numpy as np\n",
    "import pandas as pd\n",
    "from scipy.io import loadmat\n",
    "from scipy.stats import pearsonr"
   ]
  },
  {
   "cell_type": "markdown",
   "metadata": {},
   "source": [
    "### get the HCP demographics"
   ]
  },
  {
   "cell_type": "code",
   "execution_count": 2,
   "metadata": {},
   "outputs": [],
   "source": [
    "HCP_u = pd.read_csv('../data/HCP_solar/HCP_s1200_unrestricted.csv', \n",
    "                    index_col = 0)\n",
    "\n",
    "HCP_u.index = HCP_u.index.map(str)\n",
    "\n",
    "HCP_r = pd.read_csv('../data/HCP_solar/HCP_s1200_restricted.csv', \n",
    "                    index_col = 0)\n",
    "\n",
    "HCP_r.index = HCP_r.index.map(str)\n"
   ]
  },
  {
   "cell_type": "code",
   "execution_count": 3,
   "metadata": {},
   "outputs": [
    {
     "data": {
      "text/plain": [
       "(1206, 1206)"
      ]
     },
     "execution_count": 3,
     "metadata": {},
     "output_type": "execute_result"
    }
   ],
   "source": [
    "len(HCP_u), len(HCP_r)"
   ]
  },
  {
   "cell_type": "markdown",
   "metadata": {},
   "source": [
    "### combine S900 Gradients with HCP demogr."
   ]
  },
  {
   "cell_type": "code",
   "execution_count": 5,
   "metadata": {},
   "outputs": [
    {
     "data": {
      "text/plain": [
       "709"
      ]
     },
     "execution_count": 5,
     "metadata": {},
     "output_type": "execute_result"
    }
   ],
   "source": [
    "# get HCP - S900 subject list        \n",
    "subjlist = '../data/subjectListS900_QC_gr.txt'\n",
    "f = open(subjlist); mylist = f.read().split(\"\\n\"); f.close() \n",
    "subjlist = joinedlist = mylist[:-1]\n",
    "\n",
    "len(subjlist)"
   ]
  },
  {
   "cell_type": "markdown",
   "metadata": {},
   "source": [
    "### G1, LSUB"
   ]
  },
  {
   "cell_type": "code",
   "execution_count": 6,
   "metadata": {},
   "outputs": [
    {
     "name": "stdout",
     "output_type": "stream",
     "text": [
      "709\n",
      "1024\n"
     ]
    }
   ],
   "source": [
    "mysubjects = []\n",
    "\n",
    "for subj in subjlist:\n",
    "    mysubjects.append(subj)\n",
    "print(len(mysubjects))\n",
    "\n",
    "tot_node_num_lsub = 1024 ## because subiculum has 1024 points \n",
    "node_str = []\n",
    "for i in range(1, tot_node_num_lsub+1):\n",
    "    node_str.append('node_'+ str(i))\n",
    "print(len(node_str))\n",
    "node_str[0], '....', node_str[-1]\n",
    "\n",
    "mycols = ['age', 'sex'] + node_str \n",
    "\n",
    "df = pd.DataFrame(index = mysubjects,\n",
    "                 columns = mycols)\n",
    "df.index.name = 'id'"
   ]
  },
  {
   "cell_type": "code",
   "execution_count": 7,
   "metadata": {},
   "outputs": [],
   "source": [
    "gdir = '../data/tout_hippoc_grad_flipped_msm50'\n",
    "\n",
    "for subjID in mysubjects:\n",
    "    \n",
    "    iA = HCP_r.index.get_loc(subjID)\n",
    "    iB = HCP_u.index.get_loc(subjID)\n",
    "    iC = df.index.get_loc(subjID)\n",
    "\n",
    "    df.iloc[iC]['age'] = HCP_r.iloc[iA]['Age_in_Yrs']\n",
    "    df.iloc[iC]['sex'] = HCP_u.iloc[iB]['Gender']\n",
    "\n",
    "    gfile_LSUB = h5py.File(os.path.join(gdir, 'HCP_' + subjID + '_G1_LSUB.h5'), 'r')\n",
    "    g1_LSUB = np.array(gfile_LSUB[subjID])  \n",
    "    gfile_LSUB.close()\n",
    "\n",
    "    df.iloc[iC][node_str] = g1_LSUB\n"
   ]
  },
  {
   "cell_type": "code",
   "execution_count": 11,
   "metadata": {},
   "outputs": [],
   "source": [
    "#df"
   ]
  },
  {
   "cell_type": "code",
   "execution_count": 9,
   "metadata": {},
   "outputs": [
    {
     "data": {
      "text/plain": [
       "709"
      ]
     },
     "execution_count": 9,
     "metadata": {},
     "output_type": "execute_result"
    }
   ],
   "source": [
    "df = df.dropna()\n",
    "len(df)"
   ]
  },
  {
   "cell_type": "code",
   "execution_count": 10,
   "metadata": {},
   "outputs": [],
   "source": [
    "df.to_csv('../solar/msm50_G1_LSUB/G1_LSUB.csv')"
   ]
  },
  {
   "cell_type": "markdown",
   "metadata": {},
   "source": [
    "### G1, LCA"
   ]
  },
  {
   "cell_type": "code",
   "execution_count": 11,
   "metadata": {},
   "outputs": [
    {
     "name": "stdout",
     "output_type": "stream",
     "text": [
      "709\n",
      "2048\n"
     ]
    }
   ],
   "source": [
    "mysubjects = []\n",
    "\n",
    "for subj in subjlist:\n",
    "    mysubjects.append(subj)\n",
    "print(len(mysubjects))\n",
    "\n",
    "tot_node_num_lca = 2048 ## because ca has 2048 points \n",
    "node_str = []\n",
    "for i in range(1, tot_node_num_lca+1):\n",
    "    node_str.append('node_'+ str(i))\n",
    "print(len(node_str))\n",
    "node_str[0], '....', node_str[-1]\n",
    "\n",
    "mycols = ['age', 'sex'] + node_str\n",
    "len(mycols)\n",
    "\n",
    "df = pd.DataFrame(index = mysubjects,\n",
    "                 columns = mycols)\n",
    "df.index.name = 'id'"
   ]
  },
  {
   "cell_type": "code",
   "execution_count": 12,
   "metadata": {},
   "outputs": [],
   "source": [
    "gdir = '../data/tout_hippoc_grad_flipped_msm50'\n",
    "\n",
    "for subjID in mysubjects:\n",
    "    \n",
    "    iA = HCP_r.index.get_loc(subjID)\n",
    "    iB = HCP_u.index.get_loc(subjID)\n",
    "    iC = df.index.get_loc(subjID)\n",
    "\n",
    "    df.iloc[iC]['age'] = HCP_r.iloc[iA]['Age_in_Yrs']\n",
    "    df.iloc[iC]['sex'] = HCP_u.iloc[iB]['Gender']\n",
    "\n",
    "    gfile_LCA = h5py.File(os.path.join(gdir, 'HCP_' + subjID + '_G1_LCA.h5'), 'r')\n",
    "    g1_LCA = np.array(gfile_LCA[subjID])  \n",
    "    gfile_LCA.close()\n",
    "    \n",
    "    df.iloc[iC][node_str] = g1_LCA\n"
   ]
  },
  {
   "cell_type": "code",
   "execution_count": 13,
   "metadata": {},
   "outputs": [
    {
     "data": {
      "text/plain": [
       "709"
      ]
     },
     "execution_count": 13,
     "metadata": {},
     "output_type": "execute_result"
    }
   ],
   "source": [
    "df = df.dropna()\n",
    "len(df)"
   ]
  },
  {
   "cell_type": "code",
   "execution_count": 14,
   "metadata": {},
   "outputs": [],
   "source": [
    "df.to_csv('../solar/msm50_G1_LCA/G1_LCA.csv')"
   ]
  },
  {
   "cell_type": "markdown",
   "metadata": {},
   "source": [
    "### G1, LDG"
   ]
  },
  {
   "cell_type": "code",
   "execution_count": 15,
   "metadata": {},
   "outputs": [
    {
     "name": "stdout",
     "output_type": "stream",
     "text": [
      "709\n",
      "1024\n"
     ]
    }
   ],
   "source": [
    "mysubjects = []\n",
    "\n",
    "for subj in subjlist:\n",
    "    mysubjects.append(subj)\n",
    "print(len(mysubjects))\n",
    "\n",
    "tot_node_num_ldg = 1024 ## because dg has 1024 points \n",
    "node_str = []\n",
    "for i in range(1, tot_node_num_ldg+1):\n",
    "    node_str.append('node_'+ str(i))\n",
    "print(len(node_str))\n",
    "node_str[0], '....', node_str[-1]\n",
    "\n",
    "mycols = ['age', 'sex'] + node_str \n",
    "len(mycols)\n",
    "\n",
    "df = pd.DataFrame(index = mysubjects,\n",
    "                 columns = mycols)\n",
    "df.index.name = 'id'"
   ]
  },
  {
   "cell_type": "code",
   "execution_count": 16,
   "metadata": {},
   "outputs": [],
   "source": [
    "gdir = '../data/tout_hippoc_grad_flipped_msm50'\n",
    "\n",
    "for subjID in mysubjects:\n",
    "    \n",
    "    iA = HCP_r.index.get_loc(subjID)\n",
    "    iB = HCP_u.index.get_loc(subjID)\n",
    "    iC = df.index.get_loc(subjID)\n",
    "\n",
    "    df.iloc[iC]['age'] = HCP_r.iloc[iA]['Age_in_Yrs']\n",
    "    df.iloc[iC]['sex'] = HCP_u.iloc[iB]['Gender']\n",
    "\n",
    "    gfile_LDG = h5py.File(os.path.join(gdir, 'HCP_' + subjID + '_G1_LDG.h5'), 'r')\n",
    "    g1_LDG = np.array(gfile_LDG[subjID])  \n",
    "    gfile_LDG.close()\n",
    "    \n",
    "    df.iloc[iC][node_str] = g1_LDG\n",
    "\n",
    "    \n"
   ]
  },
  {
   "cell_type": "code",
   "execution_count": 17,
   "metadata": {},
   "outputs": [
    {
     "data": {
      "text/plain": [
       "709"
      ]
     },
     "execution_count": 17,
     "metadata": {},
     "output_type": "execute_result"
    }
   ],
   "source": [
    "df = df.dropna()\n",
    "len(df)"
   ]
  },
  {
   "cell_type": "code",
   "execution_count": 18,
   "metadata": {},
   "outputs": [],
   "source": [
    "df.to_csv('../solar/msm50_G1_LDG/G1_LDG.csv')"
   ]
  },
  {
   "cell_type": "markdown",
   "metadata": {},
   "source": [
    "### G1, RSUB"
   ]
  },
  {
   "cell_type": "code",
   "execution_count": 19,
   "metadata": {},
   "outputs": [
    {
     "name": "stdout",
     "output_type": "stream",
     "text": [
      "709\n",
      "1024\n"
     ]
    }
   ],
   "source": [
    "mysubjects = []\n",
    "\n",
    "for subj in subjlist:\n",
    "    mysubjects.append(subj)\n",
    "print(len(mysubjects))\n",
    "\n",
    "tot_node_num_lsub = 1024 ## because subiculum has 1024 points \n",
    "node_str = []\n",
    "for i in range(1, tot_node_num_lsub+1):\n",
    "    node_str.append('node_'+ str(i))\n",
    "print(len(node_str))\n",
    "node_str[0], '....', node_str[-1]\n",
    "\n",
    "mycols = ['age', 'sex'] + node_str\n",
    "\n",
    "\n",
    "df = pd.DataFrame(index = mysubjects,\n",
    "                 columns = mycols)\n",
    "df.index.name = 'id'"
   ]
  },
  {
   "cell_type": "code",
   "execution_count": 20,
   "metadata": {},
   "outputs": [],
   "source": [
    "gdir = '../data/tout_hippoc_grad_flipped_msm50'\n",
    "\n",
    "for subjID in mysubjects:\n",
    "    \n",
    "    iA = HCP_r.index.get_loc(subjID)\n",
    "    iB = HCP_u.index.get_loc(subjID)\n",
    "    iC = df.index.get_loc(subjID)\n",
    "\n",
    "    df.iloc[iC]['age'] = HCP_r.iloc[iA]['Age_in_Yrs']\n",
    "    df.iloc[iC]['sex'] = HCP_u.iloc[iB]['Gender']\n",
    "\n",
    "    gfile_RSUB = h5py.File(os.path.join(gdir, 'HCP_' + subjID + '_G1_RSUB.h5'), 'r')\n",
    "    g1_RSUB = np.array(gfile_RSUB[subjID])  \n",
    "    gfile_RSUB.close()\n",
    "\n",
    "    df.iloc[iC][node_str] = g1_RSUB\n"
   ]
  },
  {
   "cell_type": "code",
   "execution_count": 21,
   "metadata": {},
   "outputs": [
    {
     "data": {
      "text/plain": [
       "709"
      ]
     },
     "execution_count": 21,
     "metadata": {},
     "output_type": "execute_result"
    }
   ],
   "source": [
    "df = df.dropna()\n",
    "len(df)"
   ]
  },
  {
   "cell_type": "code",
   "execution_count": 22,
   "metadata": {},
   "outputs": [],
   "source": [
    "df.to_csv('../solar/msm50_G1_RSUB/G1_RSUB.csv')"
   ]
  },
  {
   "cell_type": "markdown",
   "metadata": {},
   "source": [
    "### G1, RCA"
   ]
  },
  {
   "cell_type": "code",
   "execution_count": 23,
   "metadata": {},
   "outputs": [
    {
     "name": "stdout",
     "output_type": "stream",
     "text": [
      "709\n",
      "2048\n"
     ]
    }
   ],
   "source": [
    "mysubjects = []\n",
    "\n",
    "for subj in subjlist:\n",
    "    mysubjects.append(subj)\n",
    "print(len(mysubjects))\n",
    "\n",
    "tot_node_num_lca = 2048 ## because ca has 2048 points \n",
    "node_str = []\n",
    "for i in range(1, tot_node_num_lca+1):\n",
    "    node_str.append('node_'+ str(i))\n",
    "print(len(node_str))\n",
    "node_str[0], '....', node_str[-1]\n",
    "\n",
    "mycols = ['age', 'sex'] + node_str \n",
    "len(mycols)\n",
    "\n",
    "df = pd.DataFrame(index = mysubjects,\n",
    "                 columns = mycols)\n",
    "df.index.name = 'id'"
   ]
  },
  {
   "cell_type": "code",
   "execution_count": 24,
   "metadata": {},
   "outputs": [],
   "source": [
    "gdir = '../data/tout_hippoc_grad_flipped_msm50'\n",
    "\n",
    "for subjID in mysubjects:\n",
    "    \n",
    "    iA = HCP_r.index.get_loc(subjID)\n",
    "    iB = HCP_u.index.get_loc(subjID)\n",
    "    iC = df.index.get_loc(subjID)\n",
    "\n",
    "    df.iloc[iC]['age'] = HCP_r.iloc[iA]['Age_in_Yrs']\n",
    "    df.iloc[iC]['sex'] = HCP_u.iloc[iB]['Gender']\n",
    "\n",
    "    gfile_RCA = h5py.File(os.path.join(gdir, 'HCP_' + subjID + '_G1_RCA.h5'), 'r')\n",
    "    g1_RCA = np.array(gfile_RCA[subjID])  \n",
    "    gfile_RCA.close()\n",
    "    \n",
    "    df.iloc[iC][node_str] = g1_RCA\n"
   ]
  },
  {
   "cell_type": "code",
   "execution_count": 25,
   "metadata": {},
   "outputs": [
    {
     "data": {
      "text/plain": [
       "709"
      ]
     },
     "execution_count": 25,
     "metadata": {},
     "output_type": "execute_result"
    }
   ],
   "source": [
    "df = df.dropna()\n",
    "len(df)"
   ]
  },
  {
   "cell_type": "code",
   "execution_count": 26,
   "metadata": {},
   "outputs": [],
   "source": [
    "df.to_csv('../solar/msm50_G1_RCA/G1_RCA.csv')"
   ]
  },
  {
   "cell_type": "markdown",
   "metadata": {},
   "source": [
    "### G1, RDG"
   ]
  },
  {
   "cell_type": "code",
   "execution_count": 27,
   "metadata": {},
   "outputs": [
    {
     "name": "stdout",
     "output_type": "stream",
     "text": [
      "709\n",
      "1024\n"
     ]
    }
   ],
   "source": [
    "mysubjects = []\n",
    "\n",
    "for subj in subjlist:\n",
    "    mysubjects.append(subj)\n",
    "print(len(mysubjects))\n",
    "\n",
    "tot_node_num_ldg = 1024 ## because dg has 1024 points \n",
    "node_str = []\n",
    "for i in range(1, tot_node_num_ldg+1):\n",
    "    node_str.append('node_'+ str(i))\n",
    "print(len(node_str))\n",
    "node_str[0], '....', node_str[-1]\n",
    "\n",
    "mycols = ['age', 'sex'] + node_str \n",
    "len(mycols)\n",
    "\n",
    "df = pd.DataFrame(index = mysubjects,\n",
    "                 columns = mycols)\n",
    "df.index.name = 'id'"
   ]
  },
  {
   "cell_type": "code",
   "execution_count": 28,
   "metadata": {},
   "outputs": [],
   "source": [
    "gdir = '../data/tout_hippoc_grad_flipped_msm50'\n",
    "\n",
    "for subjID in mysubjects:\n",
    "    \n",
    "    iA = HCP_r.index.get_loc(subjID)\n",
    "    iB = HCP_u.index.get_loc(subjID)\n",
    "    iC = df.index.get_loc(subjID)\n",
    "\n",
    "    df.iloc[iC]['age'] = HCP_r.iloc[iA]['Age_in_Yrs']\n",
    "    df.iloc[iC]['sex'] = HCP_u.iloc[iB]['Gender']\n",
    "\n",
    "    gfile_RDG = h5py.File(os.path.join(gdir, 'HCP_' + subjID + '_G1_RDG.h5'), 'r')\n",
    "    g1_RDG = np.array(gfile_RDG[subjID])  \n",
    "    gfile_RDG.close()\n",
    "    \n",
    "    df.iloc[iC][node_str] = g1_RDG\n",
    "\n"
   ]
  },
  {
   "cell_type": "code",
   "execution_count": 29,
   "metadata": {},
   "outputs": [
    {
     "data": {
      "text/plain": [
       "709"
      ]
     },
     "execution_count": 29,
     "metadata": {},
     "output_type": "execute_result"
    }
   ],
   "source": [
    "df = df.dropna()\n",
    "len(df)"
   ]
  },
  {
   "cell_type": "code",
   "execution_count": 30,
   "metadata": {},
   "outputs": [],
   "source": [
    "df.to_csv('../solar/msm50_G1_RDG/G1_RDG.csv')"
   ]
  },
  {
   "cell_type": "code",
   "execution_count": null,
   "metadata": {},
   "outputs": [],
   "source": []
  },
  {
   "cell_type": "markdown",
   "metadata": {},
   "source": [
    "### G2, LSUB"
   ]
  },
  {
   "cell_type": "code",
   "execution_count": 31,
   "metadata": {},
   "outputs": [
    {
     "name": "stdout",
     "output_type": "stream",
     "text": [
      "709\n",
      "1024\n"
     ]
    }
   ],
   "source": [
    "mysubjects = []\n",
    "\n",
    "for subj in subjlist:\n",
    "    mysubjects.append(subj)\n",
    "print(len(mysubjects))\n",
    "\n",
    "tot_node_num_lsub = 1024 ## because subiculum has 1024 points \n",
    "node_str = []\n",
    "for i in range(1, tot_node_num_lsub+1):\n",
    "    node_str.append('node_'+ str(i))\n",
    "print(len(node_str))\n",
    "node_str[0], '....', node_str[-1]\n",
    "\n",
    "mycols = ['age', 'sex'] + node_str \n",
    "\n",
    "df = pd.DataFrame(index = mysubjects,\n",
    "                 columns = mycols)\n",
    "df.index.name = 'id'"
   ]
  },
  {
   "cell_type": "code",
   "execution_count": 32,
   "metadata": {},
   "outputs": [],
   "source": [
    "gdir = '../data/tout_hippoc_grad_flipped_msm50'\n",
    "\n",
    "for subjID in mysubjects:\n",
    "    \n",
    "    iA = HCP_r.index.get_loc(subjID)\n",
    "    iB = HCP_u.index.get_loc(subjID)\n",
    "    iC = df.index.get_loc(subjID)\n",
    "\n",
    "    df.iloc[iC]['age'] = HCP_r.iloc[iA]['Age_in_Yrs']\n",
    "    df.iloc[iC]['sex'] = HCP_u.iloc[iB]['Gender']\n",
    "\n",
    "    gfile_LSUB = h5py.File(os.path.join(gdir, 'HCP_' + subjID + '_G2_LSUB.h5'), 'r')\n",
    "    g2_LSUB = np.array(gfile_LSUB[subjID])  \n",
    "    gfile_LSUB.close()\n",
    "\n",
    "    df.iloc[iC][node_str] = g2_LSUB\n"
   ]
  },
  {
   "cell_type": "code",
   "execution_count": 33,
   "metadata": {},
   "outputs": [
    {
     "data": {
      "text/plain": [
       "709"
      ]
     },
     "execution_count": 33,
     "metadata": {},
     "output_type": "execute_result"
    }
   ],
   "source": [
    "df = df.dropna()\n",
    "len(df)"
   ]
  },
  {
   "cell_type": "code",
   "execution_count": 34,
   "metadata": {},
   "outputs": [],
   "source": [
    "df.to_csv('../solar/msm50_G2_LSUB/G2_LSUB.csv')"
   ]
  },
  {
   "cell_type": "markdown",
   "metadata": {},
   "source": [
    "### G2, LCA"
   ]
  },
  {
   "cell_type": "code",
   "execution_count": 37,
   "metadata": {},
   "outputs": [
    {
     "name": "stdout",
     "output_type": "stream",
     "text": [
      "709\n",
      "2048\n"
     ]
    }
   ],
   "source": [
    "mysubjects = []\n",
    "\n",
    "for subj in subjlist:\n",
    "    mysubjects.append(subj)\n",
    "print(len(mysubjects))\n",
    "\n",
    "tot_node_num_lca = 2048 ## because ca has 2048 points \n",
    "node_str = []\n",
    "for i in range(1, tot_node_num_lca+1):\n",
    "    node_str.append('node_'+ str(i))\n",
    "print(len(node_str))\n",
    "node_str[0], '....', node_str[-1]\n",
    "\n",
    "mycols = ['age', 'sex'] + node_str \n",
    "\n",
    "df = pd.DataFrame(index = mysubjects,\n",
    "                 columns = mycols)\n",
    "df.index.name = 'id'"
   ]
  },
  {
   "cell_type": "code",
   "execution_count": 38,
   "metadata": {},
   "outputs": [],
   "source": [
    "gdir = '../data/tout_hippoc_grad_flipped_msm50'\n",
    "\n",
    "for subjID in mysubjects:\n",
    "    \n",
    "    iA = HCP_r.index.get_loc(subjID)\n",
    "    iB = HCP_u.index.get_loc(subjID)\n",
    "    iC = df.index.get_loc(subjID)\n",
    "\n",
    "    df.iloc[iC]['age'] = HCP_r.iloc[iA]['Age_in_Yrs']\n",
    "    df.iloc[iC]['sex'] = HCP_u.iloc[iB]['Gender']\n",
    "\n",
    "    gfile_LCA = h5py.File(os.path.join(gdir, 'HCP_' + subjID + '_G2_LCA.h5'), 'r')\n",
    "    g2_LCA = np.array(gfile_LCA[subjID])  \n",
    "    gfile_LCA.close()\n",
    "    \n",
    "    df.iloc[iC][node_str] = g2_LCA\n"
   ]
  },
  {
   "cell_type": "code",
   "execution_count": 39,
   "metadata": {},
   "outputs": [
    {
     "data": {
      "text/plain": [
       "709"
      ]
     },
     "execution_count": 39,
     "metadata": {},
     "output_type": "execute_result"
    }
   ],
   "source": [
    "df = df.dropna()\n",
    "len(df)"
   ]
  },
  {
   "cell_type": "code",
   "execution_count": 40,
   "metadata": {},
   "outputs": [],
   "source": [
    "df.to_csv('../solar/msm50_G2_LCA/G2_LCA.csv')"
   ]
  },
  {
   "cell_type": "markdown",
   "metadata": {},
   "source": [
    "### G2, LDG"
   ]
  },
  {
   "cell_type": "code",
   "execution_count": 41,
   "metadata": {},
   "outputs": [
    {
     "name": "stdout",
     "output_type": "stream",
     "text": [
      "709\n",
      "1024\n"
     ]
    }
   ],
   "source": [
    "mysubjects = []\n",
    "\n",
    "for subj in subjlist:\n",
    "    mysubjects.append(subj)\n",
    "print(len(mysubjects))\n",
    "\n",
    "tot_node_num_ldg = 1024 ## because dg has 1024 points \n",
    "node_str = []\n",
    "for i in range(1, tot_node_num_ldg+1):\n",
    "    node_str.append('node_'+ str(i))\n",
    "print(len(node_str))\n",
    "node_str[0], '....', node_str[-1]\n",
    "\n",
    "mycols = ['age', 'sex'] + node_str \n",
    "len(mycols)\n",
    "\n",
    "df = pd.DataFrame(index = mysubjects,\n",
    "                 columns = mycols)\n",
    "df.index.name = 'id'"
   ]
  },
  {
   "cell_type": "code",
   "execution_count": 42,
   "metadata": {},
   "outputs": [],
   "source": [
    "gdir = '../data/tout_hippoc_grad_flipped_msm50'\n",
    "\n",
    "for subjID in mysubjects:\n",
    "    \n",
    "    iA = HCP_r.index.get_loc(subjID)\n",
    "    iB = HCP_u.index.get_loc(subjID)\n",
    "    iC = df.index.get_loc(subjID)\n",
    "\n",
    "    df.iloc[iC]['age'] = HCP_r.iloc[iA]['Age_in_Yrs']\n",
    "    df.iloc[iC]['sex'] = HCP_u.iloc[iB]['Gender']\n",
    "\n",
    "    gfile_LDG = h5py.File(os.path.join(gdir, 'HCP_' + subjID + '_G2_LDG.h5'), 'r')\n",
    "    g2_LDG = np.array(gfile_LDG[subjID])  \n",
    "    gfile_LDG.close()\n",
    "    \n",
    "    df.iloc[iC][node_str] = g2_LDG\n",
    "\n",
    "    \n"
   ]
  },
  {
   "cell_type": "code",
   "execution_count": 43,
   "metadata": {},
   "outputs": [
    {
     "data": {
      "text/plain": [
       "709"
      ]
     },
     "execution_count": 43,
     "metadata": {},
     "output_type": "execute_result"
    }
   ],
   "source": [
    "df = df.dropna()\n",
    "len(df)"
   ]
  },
  {
   "cell_type": "code",
   "execution_count": 44,
   "metadata": {},
   "outputs": [],
   "source": [
    "df.to_csv('../solar/msm50_G2_LDG/G2_LDG.csv')"
   ]
  },
  {
   "cell_type": "markdown",
   "metadata": {},
   "source": [
    "### G2, RSUB"
   ]
  },
  {
   "cell_type": "code",
   "execution_count": 46,
   "metadata": {},
   "outputs": [
    {
     "name": "stdout",
     "output_type": "stream",
     "text": [
      "709\n",
      "1024\n"
     ]
    }
   ],
   "source": [
    "mysubjects = []\n",
    "\n",
    "for subj in subjlist:\n",
    "    mysubjects.append(subj)\n",
    "print(len(mysubjects))\n",
    "\n",
    "tot_node_num_lsub = 1024 ## because subiculum has 1024 points \n",
    "node_str = []\n",
    "for i in range(1, tot_node_num_lsub+1):\n",
    "    node_str.append('node_'+ str(i))\n",
    "print(len(node_str))\n",
    "node_str[0], '....', node_str[-1]\n",
    "\n",
    "mycols = ['age', 'sex'] + node_str \n",
    "\n",
    "df = pd.DataFrame(index = mysubjects,\n",
    "                 columns = mycols)\n",
    "df.index.name = 'id'"
   ]
  },
  {
   "cell_type": "code",
   "execution_count": 47,
   "metadata": {},
   "outputs": [],
   "source": [
    "gdir = '../data/tout_hippoc_grad_flipped_msm50'\n",
    "\n",
    "for subjID in mysubjects:\n",
    "    \n",
    "    iA = HCP_r.index.get_loc(subjID)\n",
    "    iB = HCP_u.index.get_loc(subjID)\n",
    "    iC = df.index.get_loc(subjID)\n",
    "\n",
    "    df.iloc[iC]['age'] = HCP_r.iloc[iA]['Age_in_Yrs']\n",
    "    df.iloc[iC]['sex'] = HCP_u.iloc[iB]['Gender']\n",
    "\n",
    "    gfile_RSUB = h5py.File(os.path.join(gdir, 'HCP_' + subjID + '_G2_RSUB.h5'), 'r')\n",
    "    g2_RSUB = np.array(gfile_RSUB[subjID])  \n",
    "    gfile_RSUB.close()\n",
    "\n",
    "    df.iloc[iC][node_str] = g2_RSUB\n"
   ]
  },
  {
   "cell_type": "code",
   "execution_count": 48,
   "metadata": {},
   "outputs": [
    {
     "data": {
      "text/plain": [
       "709"
      ]
     },
     "execution_count": 48,
     "metadata": {},
     "output_type": "execute_result"
    }
   ],
   "source": [
    "df = df.dropna()\n",
    "len(df)"
   ]
  },
  {
   "cell_type": "code",
   "execution_count": 49,
   "metadata": {},
   "outputs": [],
   "source": [
    "df.to_csv('../solar/msm50_G2_RSUB/G2_RSUB.csv')"
   ]
  },
  {
   "cell_type": "markdown",
   "metadata": {},
   "source": [
    "### G2, RCA"
   ]
  },
  {
   "cell_type": "code",
   "execution_count": 50,
   "metadata": {},
   "outputs": [
    {
     "name": "stdout",
     "output_type": "stream",
     "text": [
      "709\n",
      "2048\n"
     ]
    }
   ],
   "source": [
    "mysubjects = []\n",
    "\n",
    "for subj in subjlist:\n",
    "    mysubjects.append(subj)\n",
    "print(len(mysubjects))\n",
    "\n",
    "tot_node_num_lca = 2048 ## because ca has 2048 points \n",
    "node_str = []\n",
    "for i in range(1, tot_node_num_lca+1):\n",
    "    node_str.append('node_'+ str(i))\n",
    "print(len(node_str))\n",
    "node_str[0], '....', node_str[-1]\n",
    "\n",
    "mycols = ['age', 'sex'] + node_str \n",
    "len(mycols)\n",
    "\n",
    "df = pd.DataFrame(index = mysubjects,\n",
    "                 columns = mycols)\n",
    "df.index.name = 'id'"
   ]
  },
  {
   "cell_type": "code",
   "execution_count": 51,
   "metadata": {},
   "outputs": [],
   "source": [
    "ddir = '../data/tout_hippoc_grad_flipped_msm50'\n",
    "\n",
    "for subjID in mysubjects:\n",
    "    \n",
    "    iA = HCP_r.index.get_loc(subjID)\n",
    "    iB = HCP_u.index.get_loc(subjID)\n",
    "    iC = df.index.get_loc(subjID)\n",
    "\n",
    "    df.iloc[iC]['age'] = HCP_r.iloc[iA]['Age_in_Yrs']\n",
    "    df.iloc[iC]['sex'] = HCP_u.iloc[iB]['Gender']\n",
    "\n",
    "    gfile_RCA = h5py.File(os.path.join(gdir, 'HCP_' + subjID + '_G2_RCA.h5'), 'r')\n",
    "    g2_RCA = np.array(gfile_RCA[subjID])  \n",
    "    gfile_RCA.close()\n",
    "    \n",
    "    df.iloc[iC][node_str] = g2_RCA\n"
   ]
  },
  {
   "cell_type": "code",
   "execution_count": 52,
   "metadata": {},
   "outputs": [
    {
     "data": {
      "text/plain": [
       "709"
      ]
     },
     "execution_count": 52,
     "metadata": {},
     "output_type": "execute_result"
    }
   ],
   "source": [
    "df = df.dropna()\n",
    "len(df)"
   ]
  },
  {
   "cell_type": "code",
   "execution_count": 53,
   "metadata": {},
   "outputs": [],
   "source": [
    "df.to_csv('../solar/msm50_G2_RCA/G2_RCA.csv')"
   ]
  },
  {
   "cell_type": "markdown",
   "metadata": {},
   "source": [
    "### G2, RDG"
   ]
  },
  {
   "cell_type": "code",
   "execution_count": 54,
   "metadata": {},
   "outputs": [
    {
     "name": "stdout",
     "output_type": "stream",
     "text": [
      "709\n",
      "1024\n"
     ]
    }
   ],
   "source": [
    "mysubjects = []\n",
    "\n",
    "for subj in subjlist:\n",
    "    mysubjects.append(subj)\n",
    "print(len(mysubjects))\n",
    "\n",
    "tot_node_num_ldg = 1024 ## because dg has 1024 points \n",
    "node_str = []\n",
    "for i in range(1, tot_node_num_ldg+1):\n",
    "    node_str.append('node_'+ str(i))\n",
    "print(len(node_str))\n",
    "node_str[0], '....', node_str[-1]\n",
    "\n",
    "mycols = ['age', 'sex'] + node_str \n",
    "\n",
    "df = pd.DataFrame(index = mysubjects,\n",
    "                 columns = mycols)\n",
    "df.index.name = 'id'"
   ]
  },
  {
   "cell_type": "code",
   "execution_count": 55,
   "metadata": {},
   "outputs": [],
   "source": [
    "gdir = '../data/tout_hippoc_grad_flipped_msm50'\n",
    "\n",
    "for subjID in mysubjects:\n",
    "    \n",
    "    iA = HCP_r.index.get_loc(subjID)\n",
    "    iB = HCP_u.index.get_loc(subjID)\n",
    "    iC = df.index.get_loc(subjID)\n",
    "\n",
    "    df.iloc[iC]['age'] = HCP_r.iloc[iA]['Age_in_Yrs']\n",
    "    df.iloc[iC]['sex'] = HCP_u.iloc[iB]['Gender']\n",
    "\n",
    "    gfile_RDG = h5py.File(os.path.join(gdir, 'HCP_' + subjID + '_G2_RDG.h5'), 'r')\n",
    "    g2_RDG = np.array(gfile_RDG[subjID])  \n",
    "    gfile_RDG.close()\n",
    "    \n",
    "    df.iloc[iC][node_str] = g2_RDG\n"
   ]
  },
  {
   "cell_type": "code",
   "execution_count": 56,
   "metadata": {},
   "outputs": [
    {
     "data": {
      "text/plain": [
       "709"
      ]
     },
     "execution_count": 56,
     "metadata": {},
     "output_type": "execute_result"
    }
   ],
   "source": [
    "df = df.dropna()\n",
    "len(df)"
   ]
  },
  {
   "cell_type": "code",
   "execution_count": 57,
   "metadata": {},
   "outputs": [],
   "source": [
    "df.to_csv('../solar/msm50_G2_RDG/G2_RDG.csv')"
   ]
  },
  {
   "cell_type": "code",
   "execution_count": null,
   "metadata": {},
   "outputs": [],
   "source": []
  }
 ],
 "metadata": {
  "kernelspec": {
   "display_name": "Python [conda env:surfstat]",
   "language": "python",
   "name": "conda-env-surfstat-py"
  },
  "language_info": {
   "codemirror_mode": {
    "name": "ipython",
    "version": 3
   },
   "file_extension": ".py",
   "mimetype": "text/x-python",
   "name": "python",
   "nbconvert_exporter": "python",
   "pygments_lexer": "ipython3",
   "version": "3.6.10"
  }
 },
 "nbformat": 4,
 "nbformat_minor": 4
}
