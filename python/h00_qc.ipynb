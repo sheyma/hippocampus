{
 "cells": [
  {
   "cell_type": "code",
   "execution_count": 1,
   "metadata": {},
   "outputs": [
    {
     "name": "stdout",
     "output_type": "stream",
     "text": [
      "201217-13:15:15,461 nipype.utils WARNING:\n",
      "\t A newer version (1.5.1) of nipy/nipype is available. You are using 1.5.0\n"
     ]
    }
   ],
   "source": [
    "import os\n",
    "import numpy as np\n",
    "import pandas as pd\n",
    "import h5py\n",
    "import matlab.engine\n",
    "import matlab\n",
    "import nibabel as nb\n",
    "import nipype.interfaces.freesurfer as fs\n",
    "from nipype.interfaces.base import CommandLine\n",
    "import matplotlib.pyplot as plt\n",
    "from nilearn import plotting\n",
    "import seaborn as sns\n"
   ]
  },
  {
   "cell_type": "markdown",
   "metadata": {},
   "source": [
    "#### start matlab engine"
   ]
  },
  {
   "cell_type": "code",
   "execution_count": 2,
   "metadata": {},
   "outputs": [],
   "source": [
    "def matlab_init_surfstat():\n",
    "    global eng\n",
    "    eng = matlab.engine.start_matlab()\n",
    "    addpath = eng.addpath('../../BrainStat/surfstat/matlab')\n",
    "\n",
    "matlab_init_surfstat()"
   ]
  },
  {
   "cell_type": "markdown",
   "metadata": {},
   "source": [
    "#### read in QC file"
   ]
  },
  {
   "cell_type": "code",
   "execution_count": 3,
   "metadata": {},
   "outputs": [],
   "source": [
    "qc_file = '../data/qualityControl_Bayrak_v01.xlsx'\n",
    "\n",
    "df = pd.read_excel(qc_file, index_col=0)\n",
    "df.index = df.index.map(str)\n",
    "\n",
    "DF = df.copy(deep=True)\n",
    "\n",
    "#DF"
   ]
  },
  {
   "cell_type": "markdown",
   "metadata": {},
   "source": [
    "#### resample T1w-T2w-Ratios (native) to MNI Space (template)"
   ]
  },
  {
   "cell_type": "code",
   "execution_count": 4,
   "metadata": {},
   "outputs": [
    {
     "data": {
      "text/plain": [
       "1113"
      ]
     },
     "execution_count": 4,
     "metadata": {},
     "output_type": "execute_result"
    }
   ],
   "source": [
    "subjlist = '../data/subjectList1200.txt'\n",
    "f = open(subjlist); mylist = f.read().split(\"\\n\"); f.close() \n",
    "subjlist = joinedlist = mylist[:-1]\n",
    "len(subjlist)"
   ]
  },
  {
   "cell_type": "code",
   "execution_count": 5,
   "metadata": {},
   "outputs": [],
   "source": [
    "ddir = '../data/'\n",
    "odir = '../data/hcp_MNI_T1wT2w/'\n",
    "\n",
    "\n",
    "for subjid in subjlist:\n",
    "\n",
    "    # existing files\n",
    "    t1t2_native = os.path.join(ddir, \n",
    "                               'hcp-structural-preprocessed/%s/T1w/T1wDividedByT2w.nii.gz' \n",
    "                               % (subjid))\n",
    "    t1_native   = os.path.join(ddir, \n",
    "                               'hcp-structural-preprocessed/%s/T1w/T1w_acpc_dc.nii.gz' \n",
    "                               %(subjid))\n",
    "    t1_mni_trf  = os.path.join(ddir, \n",
    "                               'hcp_MNI_T1w/%s/MNINonLinear/xfms/acpc_dc2standard.nii.gz' \n",
    "                               % (subjid))\n",
    "\n",
    "    fsl_mni     = '../data/MNI152_T1_1mm_brain.nii.gz'\n",
    "\n",
    "    # will be generated \n",
    "    if not os.path.exists(os.path.join(odir, subjid)):\n",
    "        os.makedirs(os.path.join(odir, subjid))\n",
    "        \n",
    "    t1t2_mni = os.path.join(odir, subjid, 'T1wDividedByT2w_mni.nii.gz')\n",
    "\n",
    "\n",
    "    # Here we go...\n",
    "    if os.path.isfile(t1t2_native) and os.path.isfile(t1_native) \\\n",
    "    and os.path.isfile(t1_mni_trf) and not os.path.isfile(t1t2_mni):        \n",
    "\n",
    "        print(subjid)\n",
    "\n",
    "        # nipype wrapper for $wb_command\n",
    "        cli = CommandLine(command = 'wb_command')\n",
    "        cli.inputs.args = ('-volume-warpfield-resample %s %s %s  ENCLOSING_VOXEL %s -fnirt %s ' \n",
    "                           % (t1t2_native, t1_mni_trf, fsl_mni, t1t2_mni, t1_native))\n",
    "        cli.run()    \n"
   ]
  },
  {
   "cell_type": "markdown",
   "metadata": {},
   "source": [
    "### resample T1w-T2w-Ratios (MNI) along hippocampus surfaces"
   ]
  },
  {
   "cell_type": "code",
   "execution_count": 6,
   "metadata": {},
   "outputs": [
    {
     "data": {
      "text/plain": [
       "1113"
      ]
     },
     "execution_count": 6,
     "metadata": {},
     "output_type": "execute_result"
    }
   ],
   "source": [
    "bladesdir = '../data/bladesMni/'\n",
    "workdir   = '../data/bladesMniGifti_T1wT2w/'\n",
    "t1t2dir   = '../data/hcp_MNI_T1wT2w/'\n",
    "\n",
    "subjlist = '../data/subjectList1200.txt'\n",
    "f = open(subjlist); mylist = f.read().split(\"\\n\"); f.close() \n",
    "subjlist = joinedlist = mylist[:-1]\n",
    "len(subjlist)\n"
   ]
  },
  {
   "cell_type": "code",
   "execution_count": 7,
   "metadata": {
    "scrolled": true
   },
   "outputs": [],
   "source": [
    "roi_strings = ['L_SUB', 'L_CA', 'L_DG', 'R_SUB', 'R_CA', 'R_DG']                                        \n",
    "\n",
    "for subjid in subjlist:\n",
    "\n",
    "    for roi in roi_strings:\n",
    "    \n",
    "        # get existing files\n",
    "        fname     = os.path.join(bladesdir, 'HCP_%s_%s_skelFinal.obj' % (subjid, roi))  \n",
    "        volfile   = os.path.join(t1t2dir, subjid, 'T1wDividedByT2w_mni.nii.gz')\n",
    "\n",
    "        if os.path.isfile(fname) and os.path.isfile(volfile): \n",
    "\n",
    "            # ... will be generated\n",
    "            fsFile    = os.path.join(workdir, os.path.basename(fname)[:-4] + '.fs')\n",
    "            giftiFile = os.path.join(workdir, os.path.basename(fname)[:-4] + '.surf.gii')\n",
    "            vol2hipp  = os.path.join(workdir, os.path.basename(fname)[:-4] + '.shape.gii')\n",
    "\n",
    "            if not os.path.isfile(vol2hipp):\n",
    "\n",
    "                # read hippocampal surface (*obj) and write in freesurfer format (*fs)\n",
    "                data = eng.SurfStatReadSurf(fname)\n",
    "                eng.SurfStatWriteSurf1(fsFile, data);\n",
    "\n",
    "                # nipype wrapper for $ mris_convert\n",
    "                mris = fs.MRIsConvert()\n",
    "                mris.inputs.in_file  = fsFile\n",
    "                mris.inputs.out_file = giftiFile\n",
    "                mris.run() \n",
    "\n",
    "                # nipype wrapper for $wb_command\n",
    "                cli = CommandLine(command = 'wb_command')\n",
    "                cli.inputs.args = ('-volume-to-surface-mapping %s %s %s  -trilinear ' \n",
    "                                   % (volfile, giftiFile, vol2hipp))\n",
    "                cli.run()\n",
    "\n",
    "                # read data from the gifti file\n",
    "                qc_data = nb.load(vol2hipp).agg_data()\n",
    "\n",
    "\n"
   ]
  },
  {
   "cell_type": "markdown",
   "metadata": {},
   "source": [
    "### write in the qc file (t1w-t2w-ratios)"
   ]
  },
  {
   "cell_type": "code",
   "execution_count": 8,
   "metadata": {},
   "outputs": [],
   "source": [
    "workdir   = '../data/bladesMniGifti_T1wT2w/'\n",
    "\n",
    "for subjid in subjlist:\n",
    "\n",
    "    # filename for t1w-t2w ratio, resampled along hippocampus\n",
    "    vol2hipp_L_SUB = os.path.join(workdir, 'HCP_%s_L_SUB_skelFinal.shape.gii' % (subjid))  \n",
    "    vol2hipp_R_SUB = os.path.join(workdir, 'HCP_%s_R_SUB_skelFinal.shape.gii' % (subjid))  \n",
    "    vol2hipp_L_DG  = os.path.join(workdir, 'HCP_%s_L_DG_skelFinal.shape.gii' % (subjid))  \n",
    "    vol2hipp_R_DG  = os.path.join(workdir, 'HCP_%s_R_DG_skelFinal.shape.gii' % (subjid))  \n",
    "    vol2hipp_L_CA  = os.path.join(workdir, 'HCP_%s_L_CA_skelFinal.shape.gii' % (subjid))  \n",
    "    vol2hipp_R_CA  = os.path.join(workdir, 'HCP_%s_R_CA_skelFinal.shape.gii' % (subjid))  \n",
    "\n",
    "    if os.path.isfile(vol2hipp_L_SUB): \n",
    "        # read data from the gifti file\n",
    "        qc_data_L_SUB = nb.load(vol2hipp_L_SUB).agg_data()\n",
    "        # set mean t1w-t2w ratios at dataframe\n",
    "        DF.at[subjid, 't1-t2-LSUB'] = qc_data_L_SUB.mean()\n",
    "\n",
    "    if os.path.isfile(vol2hipp_R_SUB):\n",
    "        qc_data_R_SUB = nb.load(vol2hipp_R_SUB).agg_data()\n",
    "        DF.at[subjid, 't1-t2-RSUB'] = qc_data_R_SUB.mean()\n",
    "    \n",
    "    if os.path.isfile(vol2hipp_L_DG):\n",
    "        qc_data_L_DG  = nb.load(vol2hipp_L_DG).agg_data()\n",
    "        DF.at[subjid, 't1-t2-LDG']  = qc_data_L_DG.mean()\n",
    "        \n",
    "    if os.path.isfile(vol2hipp_R_DG):\n",
    "        qc_data_R_DG  = nb.load(vol2hipp_R_DG).agg_data()\n",
    "        DF.at[subjid, 't1-t2-RDG']  = qc_data_R_DG.mean()\n",
    "        \n",
    "    if os.path.isfile(vol2hipp_L_CA):\n",
    "        qc_data_L_CA  = nb.load(vol2hipp_L_CA).agg_data()\n",
    "        DF.at[subjid, 't1-t2-LCA']  = qc_data_L_CA.mean()\n",
    "        \n",
    "    if os.path.isfile(vol2hipp_R_CA):\n",
    "        qc_data_R_CA  = nb.load(vol2hipp_R_CA).agg_data()\n",
    "        DF.at[subjid, 't1-t2-RCA']  = qc_data_R_CA.mean()\n"
   ]
  },
  {
   "cell_type": "code",
   "execution_count": 9,
   "metadata": {},
   "outputs": [],
   "source": [
    "#DF"
   ]
  },
  {
   "cell_type": "markdown",
   "metadata": {},
   "source": [
    "### potential identifier for \"bad\" segmentations"
   ]
  },
  {
   "cell_type": "code",
   "execution_count": 10,
   "metadata": {},
   "outputs": [
    {
     "name": "stdout",
     "output_type": "stream",
     "text": [
      "t1-t2-LSUB 10\n",
      "['111514', '126931', '161327', '178647', '187143', '549757', '592455', '644044', '693764', '814649']\n",
      "t1-t2-RSUB 12\n",
      "['129028', '145531', '155231', '156637', '161327', '198249', '223929', '397861', '549757', '592455', '644044', '814649']\n",
      "t1-t2-LDG 9\n",
      "['109123', '126931', '145127', '161327', '188549', '303119', '650746', '656657', '814649']\n",
      "t1-t2-RDG 13\n",
      "['113922', '145531', '155938', '161327', '163331', '169343', '223929', '298051', '303119', '592455', '810439', '814649', '878776']\n",
      "t1-t2-LCA 10\n",
      "['118225', '150019', '158338', '162228', '174841', '182436', '182739', '187143', '644044', '814649']\n",
      "t1-t2-RCA 9\n",
      "['118932', '131621', '223929', '303119', '592455', '644044', '715950', '814649', '894673']\n"
     ]
    }
   ],
   "source": [
    "colstoplot = ['t1-t2-LSUB', 't1-t2-RSUB', 't1-t2-LDG', 't1-t2-RDG', 't1-t2-LCA', 't1-t2-RCA']\n",
    "\n",
    "for col in colstoplot:\n",
    "    noindex = DF[DF[col] > (DF[col].mean() + 3 * DF[col].std())].index.tolist()\n",
    "    print(col, len(noindex))\n",
    "    print(noindex)\n",
    "    for noidx in noindex:\n",
    "        DF.at[noidx, 't1-t2-no'] = 0"
   ]
  },
  {
   "cell_type": "markdown",
   "metadata": {},
   "source": [
    "# plot distribution of mean T1w-T2w-Ratios"
   ]
  },
  {
   "cell_type": "code",
   "execution_count": 12,
   "metadata": {},
   "outputs": [
    {
     "name": "stdout",
     "output_type": "stream",
     "text": [
      "0 t1-t2-LSUB\n",
      "1 t1-t2-RSUB\n",
      "2 t1-t2-LDG\n",
      "3 t1-t2-RDG\n",
      "4 t1-t2-LCA\n",
      "5 t1-t2-RCA\n"
     ]
    },
    {
     "data": {
      "image/png": "[encoded data removed]",
      "text/plain": [
       "<Figure size 1440x720 with 1 Axes>"
      ]
     },
     "metadata": {
      "needs_background": "light"
     },
     "output_type": "display_data"
    }
   ],
   "source": [
    "colstoplot = ['t1-t2-LSUB', 't1-t2-RSUB', 't1-t2-LDG', 't1-t2-RDG', 't1-t2-LCA', 't1-t2-RCA']\n",
    "\n",
    "ax = DF.boxplot(column=colstoplot,\n",
    "           figsize=(20,10),\n",
    "           fontsize=17, \n",
    "           showfliers=False)\n",
    "\n",
    "ax.set_title(\"T1w-T2w-ratio\", fontsize=20)\n",
    "\n",
    "for i,d in enumerate(colstoplot):\n",
    "    print(i, d)\n",
    "    y = DF[d]\n",
    "    x = np.random.normal(i+1, 0.04, len(y))\n",
    "    plt.plot(x, y, \n",
    "             marker=\"o\", linestyle=\"None\")\n",
    "\n",
    "\n",
    "#plt.savefig('../figures/qc/t1t2-ratios-mean.png', dpi=300)"
   ]
  },
  {
   "cell_type": "code",
   "execution_count": null,
   "metadata": {},
   "outputs": [],
   "source": []
  },
  {
   "cell_type": "markdown",
   "metadata": {},
   "source": [
    "### for MANUAL visualizing purposes, T1w_restore (mni) resampled along hippocampus shells"
   ]
  },
  {
   "cell_type": "code",
   "execution_count": 13,
   "metadata": {},
   "outputs": [
    {
     "data": {
      "text/plain": [
       "1113"
      ]
     },
     "execution_count": 13,
     "metadata": {},
     "output_type": "execute_result"
    }
   ],
   "source": [
    "shellsdir = '../data/shellsMni/'\n",
    "outdir    = '../data/shellsMniGifti'\n",
    "t1dir     = '../data/hcp_MNI_T1w/'\n",
    "\n",
    "subjlist = '../data/subjectList1200.txt'\n",
    "f = open(subjlist); mylist = f.read().split(\"\\n\"); f.close() \n",
    "subjlist = joinedlist = mylist[:-1]\n",
    "len(subjlist)"
   ]
  },
  {
   "cell_type": "markdown",
   "metadata": {},
   "source": [
    "### L_SUB, L_CA, L_DG, R_SUB, R_CA, R_DG gifti"
   ]
  },
  {
   "cell_type": "code",
   "execution_count": 14,
   "metadata": {},
   "outputs": [],
   "source": [
    "roi_strings = ['L_SUB', 'L_CA', 'L_DG', 'R_SUB', 'R_CA', 'R_DG']                                        \n",
    "\n",
    "for subjid in subjlist:\n",
    "\n",
    "    for roi in roi_strings:\n",
    "\n",
    "        # get existing files\n",
    "        fname     = os.path.join(shellsdir, 'HCP_%s_%s.obj' % (subjid, roi))  \n",
    "        volfile   = os.path.join(t1dir, subjid, 'MNINonLinear/T1w_restore.nii.gz')\n",
    "\n",
    "        if os.path.isfile(fname) and os.path.isfile(volfile): \n",
    "\n",
    "            # ... will be generated\n",
    "            fsFile    = os.path.join(outdir, os.path.basename(fname)[:-4] + '.fs')\n",
    "            giftiFile = os.path.join(outdir, os.path.basename(fname)[:-4] + '.surf.gii')\n",
    "            vol2hipp  = os.path.join(outdir, os.path.basename(fname)[:-4] + '.shape.gii')\n",
    "\n",
    "            if not os.path.isfile(vol2hipp):\n",
    "\n",
    "                # read hippocampal surface (*obj) and write in freesurfer format (*fs)\n",
    "                data = eng.SurfStatReadSurf(fname)\n",
    "                eng.SurfStatWriteSurf1(fsFile, data);\n",
    "\n",
    "                # nipype wrapper for $ mris_convert\n",
    "                mris = fs.MRIsConvert()\n",
    "                mris.inputs.in_file  = fsFile\n",
    "                mris.inputs.out_file = giftiFile\n",
    "                mris.run() \n",
    "\n",
    "                # nipype wrapper for $wb_command\n",
    "                cli = CommandLine(command = 'wb_command')\n",
    "                cli.inputs.args = ('-volume-to-surface-mapping %s %s %s  -trilinear ' \n",
    "                                   % (volfile, giftiFile, vol2hipp))\n",
    "                cli.run()\n"
   ]
  },
  {
   "cell_type": "markdown",
   "metadata": {},
   "source": [
    "### read & write man vis. quality check in QC template"
   ]
  },
  {
   "cell_type": "code",
   "execution_count": 15,
   "metadata": {},
   "outputs": [],
   "source": [
    "qc_file = '../data/qualityControl_Bayrak_v02_manual.xlsx'\n",
    "\n",
    "dfMAN = pd.read_excel(qc_file, index_col=0)\n",
    "dfMAN.index = dfMAN.index.map(str)\n",
    "\n",
    "DFMAN = dfMAN.copy(deep=True)\n",
    "\n",
    "subjlist = DF.index\n",
    "for subj in subjlist:\n",
    "    if DFMAN.at[subj, 't1-t2-man-viz'] == 1:\n",
    "        DF.at[subj, 't1-t2-man-viz'] = 1\n",
    "    elif DFMAN.at[subj, 't1-t2-man-viz'] == 0:\n",
    "        DF.at[subj, 't1-t2-man-viz'] == 0"
   ]
  },
  {
   "cell_type": "code",
   "execution_count": 16,
   "metadata": {},
   "outputs": [],
   "source": [
    "#DF"
   ]
  },
  {
   "cell_type": "code",
   "execution_count": null,
   "metadata": {},
   "outputs": [],
   "source": []
  },
  {
   "cell_type": "markdown",
   "metadata": {},
   "source": [
    "### input PNAS study QC values in our DF"
   ]
  },
  {
   "cell_type": "code",
   "execution_count": 17,
   "metadata": {},
   "outputs": [],
   "source": [
    "qc_file_pnas = '../data/qualityControl_VosdeWael.xlsx'\n",
    "\n",
    "df_pnas = pd.read_excel(qc_file_pnas, index_col=0)\n",
    "df_pnas.index = df_pnas.index.map(str)\n",
    "\n",
    "DF_pnas = df_pnas.copy(deep=True)\n"
   ]
  },
  {
   "cell_type": "code",
   "execution_count": 18,
   "metadata": {},
   "outputs": [],
   "source": [
    "for subjid in subjlist:\n",
    "\n",
    "    if subjid in DF_pnas.index :\n",
    "        \n",
    "        if DF_pnas.at[subjid, 'Grade'] > 0: \n",
    "            \n",
    "            DF.at[subjid, 'pnas'] = 1\n",
    "    \n",
    "        elif DF_pnas.at[subjid, 'Grade'] <= 0: \n",
    "            \n",
    "            DF.at[subjid, 'pnas'] = 0\n",
    "    \n",
    "    "
   ]
  },
  {
   "cell_type": "code",
   "execution_count": 19,
   "metadata": {},
   "outputs": [],
   "source": [
    "#DF"
   ]
  },
  {
   "cell_type": "markdown",
   "metadata": {},
   "source": [
    "# check whether each subject has 4 scans"
   ]
  },
  {
   "cell_type": "code",
   "execution_count": 20,
   "metadata": {},
   "outputs": [
    {
     "data": {
      "text/plain": [
       "1113"
      ]
     },
     "execution_count": 20,
     "metadata": {},
     "output_type": "execute_result"
    }
   ],
   "source": [
    "# data dir\n",
    "ddir     = '../data/'  \n",
    "                \n",
    "glassdir = os.path.join(ddir, 'glasserTimeseries/');    # cortex t-series\n",
    "hippdir  = os.path.join(ddir, 'smoothTimeseries/');     # hippocampus t-series\n",
    "\n",
    "\n",
    "subjlist = '../data/subjectList1200.txt'\n",
    "f = open(subjlist); mylist = f.read().split(\"\\n\"); f.close() \n",
    "subjlist = joinedlist = mylist[:-1]\n",
    "len(subjlist)\n"
   ]
  },
  {
   "cell_type": "code",
   "execution_count": 21,
   "metadata": {},
   "outputs": [
    {
     "name": "stdout",
     "output_type": "stream",
     "text": [
      "250427 does not have 4 scans\n",
      "270332 does not have 4 scans\n",
      "334635 does not have 4 scans\n",
      "633847 does not have 4 scans\n",
      "638049 does not have 4 scans\n"
     ]
    }
   ],
   "source": [
    "# it is HCP data, so there will be 4 scans\n",
    "scans = ['rfMRI_REST1_LR', 'rfMRI_REST1_RL', \n",
    "         'rfMRI_REST2_LR', 'rfMRI_REST2_RL'];\n",
    "\n",
    "# hippocampus segmentations\n",
    "rois = ['L_SUB', 'L_CA', 'L_DG', 'R_SUB', 'R_CA', 'R_DG']\n",
    "\n",
    "j = 0\n",
    "\n",
    "for subjid in subjlist:\n",
    "\n",
    "    objname1 = os.path.join(ddir, 'bladesMni/HCP_%s_L_SUB_skelFinal.obj' % (subjid))\n",
    "    objname2 = os.path.join(ddir, 'bladesMni/HCP_%s_R_SUB_skelFinal.obj' % (subjid))\n",
    "    objname3 = os.path.join(ddir, 'bladesMni/HCP_%s_L_DG_skelFinal.obj' % (subjid))\n",
    "    objname4 = os.path.join(ddir, 'bladesMni/HCP_%s_R_DG_skelFinal.obj' % (subjid))\n",
    "    objname5 = os.path.join(ddir, 'bladesMni/HCP_%s_L_CA_skelFinal.obj' % (subjid))\n",
    "    objname6 = os.path.join(ddir, 'bladesMni/HCP_%s_R_CA_skelFinal.obj' % (subjid))\n",
    "\n",
    "    # check if segmentation files exist\n",
    "    if os.path.isfile(objname1) and os.path.isfile(objname2) \\\n",
    "    and os.path.isfile(objname3) and os.path.isfile(objname4) \\\n",
    "    and os.path.isfile(objname5) and os.path.isfile(objname6):\n",
    "\n",
    "\n",
    "        # check if timeseries exist\n",
    "        subj_glass_file = os.path.join(glassdir, 'HCP_%s_glasserTimeseries.mat' % (subjid))\n",
    "        subj_hipp_file  = os.path.join(hippdir, 'HCP_%s_smoothTimeseries.mat' % (subjid))\n",
    "\n",
    "        if os.path.isfile(subj_glass_file) and os.path.isfile(subj_hipp_file):\n",
    "\n",
    "            #  HDF reader for matlab v7.3 files\n",
    "            f_subj_glass = h5py.File(subj_glass_file, 'r')\n",
    "            f_subj_hipp  = h5py.File(subj_hipp_file, 'r')\n",
    "\n",
    "            # check the data for each of the 4 scans\n",
    "            scan_check = []\n",
    "            for scan in scans:\n",
    "                if scan in f_subj_glass.keys():\n",
    "                    scan_check.append(True)\n",
    "\n",
    "            if len(scan_check) == 4:\n",
    "                DF.at[subjid, '4scans'] = int(1)\n",
    "            else:\n",
    "                print(subjid, 'does not have 4 scans')\n",
    "                DF.at[subjid, '4scans'] = int(0)\n",
    "            \n",
    "            j += 1\n"
   ]
  },
  {
   "cell_type": "code",
   "execution_count": 22,
   "metadata": {},
   "outputs": [],
   "source": [
    "#DF"
   ]
  },
  {
   "cell_type": "markdown",
   "metadata": {},
   "source": [
    "# count subjects with 4scans"
   ]
  },
  {
   "cell_type": "code",
   "execution_count": 23,
   "metadata": {},
   "outputs": [
    {
     "name": "stdout",
     "output_type": "stream",
     "text": [
      "250427\n",
      "270332\n",
      "334635\n",
      "633847\n",
      "638049\n"
     ]
    }
   ],
   "source": [
    "subjlist = DF.index\n",
    "DF.columns\n",
    "i = 0\n",
    "for subj in subjlist:\n",
    "    if DF.at[subj, '4scans'] == 1:\n",
    "        i += 1\n",
    "    elif DF.at[subj, '4scans'] == 0:\n",
    "        print(subj)"
   ]
  },
  {
   "cell_type": "code",
   "execution_count": 24,
   "metadata": {},
   "outputs": [
    {
     "data": {
      "text/plain": [
       "822"
      ]
     },
     "execution_count": 24,
     "metadata": {},
     "output_type": "execute_result"
    }
   ],
   "source": [
    "i"
   ]
  },
  {
   "cell_type": "markdown",
   "metadata": {},
   "source": [
    "# count subjects with HCP issues"
   ]
  },
  {
   "cell_type": "code",
   "execution_count": 25,
   "metadata": {},
   "outputs": [
    {
     "name": "stdout",
     "output_type": "stream",
     "text": [
      "105620 A\n",
      "110613 AB\n",
      "111312 A\n",
      "112112 A\n",
      "122620 A\n",
      "124422 A\n",
      "134829 A\n",
      "139637 AB\n",
      "140117 A\n",
      "145127 A\n",
      "147737 A\n",
      "148840 A\n",
      "156435 A\n",
      "163432 A\n",
      "166438 A\n",
      "168139 AB\n",
      "175035 B\n",
      "176239 B\n",
      "178849 A\n",
      "180836 A\n",
      "181131 A\n",
      "195849 A\n",
      "199655 A\n",
      "199958 B\n",
      "201515 AB\n",
      "224022 A\n",
      "415837 B\n",
      "433839 AB\n",
      "465852 B\n",
      "522434 A\n",
      "628248 A\n",
      "656657 AB\n",
      "709551 A\n",
      "734045 A\n",
      "767464 AB\n",
      "872764 B\n",
      "958976 A\n",
      "965367 B\n",
      "987983 B\n",
      "994273 AB\n"
     ]
    }
   ],
   "source": [
    "k = 0    \n",
    "for subj in subjlist:\n",
    "    if DF.at[subj, '4scans'] == 1:     \n",
    "        if not pd.isnull(DF.at[subj, 'HCP-issues']):\n",
    "            k += 1\n",
    "            print(subj, DF.at[subj, 'HCP-issues'])"
   ]
  },
  {
   "cell_type": "code",
   "execution_count": 26,
   "metadata": {},
   "outputs": [
    {
     "data": {
      "text/plain": [
       "40"
      ]
     },
     "execution_count": 26,
     "metadata": {},
     "output_type": "execute_result"
    }
   ],
   "source": [
    "k"
   ]
  },
  {
   "cell_type": "code",
   "execution_count": 27,
   "metadata": {},
   "outputs": [
    {
     "data": {
      "text/plain": [
       "782"
      ]
     },
     "execution_count": 27,
     "metadata": {},
     "output_type": "execute_result"
    }
   ],
   "source": [
    "i - k"
   ]
  },
  {
   "cell_type": "markdown",
   "metadata": {},
   "source": [
    "# count subjects with bad hippocampus segmentations"
   ]
  },
  {
   "cell_type": "code",
   "execution_count": 28,
   "metadata": {},
   "outputs": [],
   "source": [
    "m = 0    \n",
    "for subj in subjlist:\n",
    "    if DF.at[subj, '4scans'] == 1:     \n",
    "        if pd.isnull(DF.at[subj, 'HCP-issues']):\n",
    "            if DF.at[subj, 'pnas'] > 0  or DF.at[subj, 't1-t2-man-viz'] == 1: \n",
    "                m += 1\n",
    "                DF.at[subj, 'inclusion'] = 1"
   ]
  },
  {
   "cell_type": "code",
   "execution_count": 29,
   "metadata": {},
   "outputs": [
    {
     "data": {
      "text/plain": [
       "740"
      ]
     },
     "execution_count": 29,
     "metadata": {},
     "output_type": "execute_result"
    }
   ],
   "source": [
    "m"
   ]
  },
  {
   "cell_type": "code",
   "execution_count": 30,
   "metadata": {},
   "outputs": [],
   "source": [
    "#DF"
   ]
  },
  {
   "cell_type": "code",
   "execution_count": 31,
   "metadata": {},
   "outputs": [],
   "source": [
    "DF.to_excel('../data/qualityControl_Bayrak_v03.xlsx')"
   ]
  },
  {
   "cell_type": "code",
   "execution_count": null,
   "metadata": {},
   "outputs": [],
   "source": []
  },
  {
   "cell_type": "markdown",
   "metadata": {},
   "source": [
    "### check surviving subjects.."
   ]
  },
  {
   "cell_type": "code",
   "execution_count": 32,
   "metadata": {},
   "outputs": [],
   "source": [
    "qc_file = '../data/qualityControl_Bayrak_v03.xlsx'\n",
    "\n",
    "df = pd.read_excel(qc_file, index_col=0)\n",
    "df.index = df.index.map(str)\n",
    "\n",
    "DF = df.copy(deep=True)\n"
   ]
  },
  {
   "cell_type": "code",
   "execution_count": 33,
   "metadata": {},
   "outputs": [],
   "source": [
    "subjlist = DF.index"
   ]
  },
  {
   "cell_type": "code",
   "execution_count": 35,
   "metadata": {},
   "outputs": [],
   "source": [
    "f1 = open('../data/subjectListS900_QC.txt', 'a')\n",
    "\n",
    "x = 0\n",
    "for subj in subjlist:\n",
    "    if DF.at[subj, 'inclusion'] == 1:\n",
    "        x += 1\n",
    "        f1.write(subj + \"\\n\")\n",
    "f1.close()"
   ]
  },
  {
   "cell_type": "code",
   "execution_count": 36,
   "metadata": {},
   "outputs": [
    {
     "data": {
      "text/plain": [
       "740"
      ]
     },
     "execution_count": 36,
     "metadata": {},
     "output_type": "execute_result"
    }
   ],
   "source": [
    "x"
   ]
  },
  {
   "cell_type": "markdown",
   "metadata": {},
   "source": [
    "### check the correlation of (individual, mean)"
   ]
  },
  {
   "cell_type": "code",
   "execution_count": 37,
   "metadata": {},
   "outputs": [],
   "source": [
    "import os\n",
    "import h5py\n",
    "import numpy as np\n",
    "import pandas as pd\n",
    "from scipy.stats import pearsonr\n",
    "import matplotlib.pyplot as plt\n",
    "import seaborn as sns\n"
   ]
  },
  {
   "cell_type": "code",
   "execution_count": 38,
   "metadata": {},
   "outputs": [
    {
     "name": "stdout",
     "output_type": "stream",
     "text": [
      "We have now 740 subjects... \n"
     ]
    }
   ],
   "source": [
    "ddir      = '../data/'                                          #  data dir\n",
    "cordir    = '../data/tout_cortex/'\n",
    "grodir    = '../data/tout_group'\n",
    "\n",
    "# final subject list after QC         \n",
    "subjlist = os.path.join(ddir, 'subjectListS900_QC.txt');       # 740 subjects\n",
    "f = open(subjlist); mylist = f.read().split(\"\\n\"); f.close() \n",
    "mylist =  mylist[:-1] \n",
    "totnum = len(mylist)\n",
    "\n",
    "print('We have now %i subjects... ' % totnum)\n"
   ]
  },
  {
   "cell_type": "code",
   "execution_count": 39,
   "metadata": {},
   "outputs": [
    {
     "data": {
      "text/plain": [
       "740"
      ]
     },
     "execution_count": 39,
     "metadata": {},
     "output_type": "execute_result"
    }
   ],
   "source": [
    "len(mylist)"
   ]
  },
  {
   "cell_type": "code",
   "execution_count": 40,
   "metadata": {},
   "outputs": [],
   "source": [
    "# get group-level cortex-to-subfield connectivity\n",
    "\n",
    "with h5py.File(os.path.join(grodir, 'cortex740_LSUB.h5'), \"r\") as f:  \n",
    "    avg_LSUB = np.array(f['LSUB']) \n",
    "\n",
    "with h5py.File(os.path.join(grodir, 'cortex740_RSUB.h5'), \"r\") as f:  \n",
    "    avg_RSUB = np.array(f['RSUB']) \n",
    "\n",
    "with h5py.File(os.path.join(grodir, 'cortex740_LCA.h5'), \"r\") as f:  \n",
    "    avg_LCA = np.array(f['LCA']) \n",
    "\n",
    "with h5py.File(os.path.join(grodir, 'cortex740_RCA.h5'), \"r\") as f:  \n",
    "    avg_RCA = np.array(f['RCA']) \n",
    "\n",
    "with h5py.File(os.path.join(grodir, 'cortex740_LDG.h5'), \"r\") as f:  \n",
    "    avg_LDG = np.array(f['LDG']) \n",
    "    \n",
    "with h5py.File(os.path.join(grodir, 'cortex740_RDG.h5'), \"r\") as f:  \n",
    "    avg_RDG = np.array(f['RDG']) \n",
    "    \n",
    "avg_SUB = (avg_LSUB + avg_RSUB)/2\n",
    "avg_CA  = (avg_LCA + avg_RCA)/2\n",
    "avg_DG  = (avg_LDG + avg_RDG)/2\n",
    "\n"
   ]
  },
  {
   "cell_type": "code",
   "execution_count": 41,
   "metadata": {},
   "outputs": [],
   "source": [
    "mysubjects = mylist\n",
    "mycols = ['SUB', 'CA', 'DG', 'corr']\n",
    "\n",
    "df = pd.DataFrame(index = mysubjects,\n",
    "                  columns = mycols)\n"
   ]
  },
  {
   "cell_type": "code",
   "execution_count": 42,
   "metadata": {},
   "outputs": [],
   "source": [
    "#df"
   ]
  },
  {
   "cell_type": "code",
   "execution_count": 43,
   "metadata": {},
   "outputs": [],
   "source": [
    "num = avg_SUB.shape[0]\n",
    "\n",
    "k = 0\n",
    "for subjID in mysubjects:\n",
    "    \n",
    "    subjsub_L = os.path.join(cordir, subjID + '_cortex_LSUB.h5')\n",
    "    subjsub_R = os.path.join(cordir, subjID + '_cortex_RSUB.h5')\n",
    "    \n",
    "    with h5py.File(subjsub_L, \"r\") as f:        \n",
    "        subjsubdata_L = np.array(f[subjID])\n",
    "    \n",
    "    with h5py.File(subjsub_R, \"r\") as f:        \n",
    "        subjsubdata_R = np.array(f[subjID])\n",
    "\n",
    "    subjsubdata = (subjsubdata_L + subjsubdata_R) / 2   \n",
    "    \n",
    "    subjca_L = os.path.join(cordir, subjID + '_cortex_LCA.h5')\n",
    "    subjca_R = os.path.join(cordir, subjID + '_cortex_RCA.h5')\n",
    "    \n",
    "    with h5py.File(subjca_L, \"r\") as f:        \n",
    "        subjcadata_L = np.array(f[subjID])\n",
    "\n",
    "    with h5py.File(subjca_R, \"r\") as f:        \n",
    "        subjcadata_R = np.array(f[subjID])\n",
    "\n",
    "    subjcadata = (subjcadata_L + subjcadata_R) / 2      \n",
    "    \n",
    "    subjdg_L = os.path.join(cordir, subjID + '_cortex_LDG.h5')\n",
    "    subjdg_R = os.path.join(cordir, subjID + '_cortex_RDG.h5')\n",
    "    \n",
    "    with h5py.File(subjdg_L, \"r\") as f:        \n",
    "        subjdgdata_L = np.array(f[subjID])\n",
    "\n",
    "    with h5py.File(subjdg_R, \"r\") as f:        \n",
    "        subjdgdata_R = np.array(f[subjID])\n",
    "    \n",
    "    subjdgdata = (subjdgdata_L + subjdgdata_R) / 2      \n",
    "    \n",
    "    iC = df.index.get_loc(subjID)\n",
    "    df.iloc[iC]['SUB'] = pearsonr(avg_SUB.reshape(num), subjsubdata.reshape(num))[0]\n",
    "    df.iloc[iC]['CA']  = pearsonr(avg_CA.reshape(num), subjcadata.reshape(num))[0]\n",
    "    df.iloc[iC]['DG']  = pearsonr(avg_DG.reshape(num), subjdgdata.reshape(num))[0]\n",
    "\n",
    "    if df.iloc[iC]['SUB'] >= 0.45 and df.iloc[iC]['CA'] >= 0.45 and df.iloc[iC]['DG'] >=0.45:\n",
    "        k += 1\n",
    "        df.iloc[iC]['corr'] = 1    \n",
    "    \n",
    "    "
   ]
  },
  {
   "cell_type": "code",
   "execution_count": 44,
   "metadata": {},
   "outputs": [],
   "source": [
    "df.to_excel('../data/tout_group/cortex_corr_indiv.xlsx')"
   ]
  },
  {
   "cell_type": "code",
   "execution_count": 45,
   "metadata": {},
   "outputs": [],
   "source": [
    "df_file = '../data/tout_group/cortex_corr_indiv.xlsx'\n",
    "\n",
    "DF = pd.read_excel(df_file, index_col=0)\n",
    "DF.index = DF.index.map(str)"
   ]
  },
  {
   "cell_type": "code",
   "execution_count": 46,
   "metadata": {
    "scrolled": false
   },
   "outputs": [
    {
     "name": "stdout",
     "output_type": "stream",
     "text": [
      "0 SUB\n",
      "1 CA\n",
      "2 DG\n"
     ]
    },
    {
     "data": {
      "image/png": "[encoded data removed]",
      "text/plain": [
       "<Figure size 1440x720 with 1 Axes>"
      ]
     },
     "metadata": {
      "needs_background": "light"
     },
     "output_type": "display_data"
    }
   ],
   "source": [
    "# plot n=740 \n",
    "\n",
    "colstoplot = ['SUB', 'CA', 'DG']\n",
    "\n",
    "ax = DF.boxplot(column=colstoplot,                        \n",
    "               figsize=(20,10),\n",
    "               fontsize=22, \n",
    "               showfliers=False)\n",
    "\n",
    "ax.set_title(\"individual correlations with the mean\", fontsize=20)\n",
    "\n",
    "for i,d in enumerate(colstoplot):\n",
    "    print(i, d)\n",
    "    y = DF[d]\n",
    "    x = np.random.normal(i+1, 0.04, len(y))\n",
    "    plt.plot(x, y, \n",
    "             marker=\"o\", linestyle=\"None\")\n",
    "\n",
    "#plt.savefig('../figures/individual_correlations.png', dpi=300)\n"
   ]
  },
  {
   "cell_type": "code",
   "execution_count": null,
   "metadata": {},
   "outputs": [],
   "source": []
  },
  {
   "cell_type": "markdown",
   "metadata": {},
   "source": [
    "# exclude subjects below r<0.45 for gradient analysis"
   ]
  },
  {
   "cell_type": "code",
   "execution_count": 47,
   "metadata": {},
   "outputs": [],
   "source": [
    "exc_file = '../data/qualityControl_Bayrak_v03.xlsx'\n",
    "exc = pd.read_excel(exc_file, index_col=0)\n",
    "exc.index = exc.index.map(str)"
   ]
  },
  {
   "cell_type": "code",
   "execution_count": 48,
   "metadata": {},
   "outputs": [
    {
     "data": {
      "text/plain": [
       "740"
      ]
     },
     "execution_count": 48,
     "metadata": {},
     "output_type": "execute_result"
    }
   ],
   "source": [
    "len(exc[exc['inclusion'] == 1])"
   ]
  },
  {
   "cell_type": "markdown",
   "metadata": {},
   "source": [
    "### create new df"
   ]
  },
  {
   "cell_type": "code",
   "execution_count": 49,
   "metadata": {},
   "outputs": [],
   "source": [
    "mysubjects = mylist\n",
    "mycols = ['HCP-issues', 'pnas', 't1-t2-LSUB', 't1-t2-RSUB', 't1-t2-LDG',\n",
    "       't1-t2-RDG', 't1-t2-LCA', 't1-t2-RCA', 't1-t2-no', 't1-t2-man-viz',\n",
    "       '4scans', 'inclusion', 'corrSUB', 'corrCA', 'corrDG', 'inclusion_gr']\n",
    "\n",
    "inc = pd.DataFrame(index = mysubjects,\n",
    "                    columns = mycols)\n"
   ]
  },
  {
   "cell_type": "code",
   "execution_count": 50,
   "metadata": {},
   "outputs": [],
   "source": [
    "inc['HCP-issues'] = exc['HCP-issues'] \n",
    "inc['pnas'] = exc['pnas']\n",
    "inc['t1-t2-LSUB'] = exc['t1-t2-LSUB']\n",
    "inc['t1-t2-RSUB'] = exc['t1-t2-RSUB']\n",
    "inc['t1-t2-LDG'] = exc['t1-t2-LDG']\n",
    "inc['t1-t2-RDG'] = exc['t1-t2-RDG']\n",
    "inc['t1-t2-LCA'] = exc['t1-t2-LCA']\n",
    "inc['t1-t2-RCA'] = exc['t1-t2-RCA']\n",
    "inc['t1-t2-no'] = exc['t1-t2-no']\n",
    "inc['t1-t2-man-viz'] = exc['t1-t2-man-viz']\n",
    "inc['4scans'] = exc['4scans']\n",
    "inc['inclusion'] = exc['inclusion']\n",
    "inc['corrSUB'] = df['SUB']\n",
    "inc['corrCA'] = df['CA']\n",
    "inc['corrDG'] = df['DG']"
   ]
  },
  {
   "cell_type": "code",
   "execution_count": 51,
   "metadata": {},
   "outputs": [
    {
     "data": {
      "text/plain": [
       "740"
      ]
     },
     "execution_count": 51,
     "metadata": {},
     "output_type": "execute_result"
    }
   ],
   "source": [
    "len(inc[inc['inclusion'] == 1])"
   ]
  },
  {
   "cell_type": "code",
   "execution_count": 52,
   "metadata": {
    "scrolled": true
   },
   "outputs": [],
   "source": [
    "m = 0\n",
    "for subjID in mysubjects:\n",
    "    if df.at[subjID, 'corr'] == 1 and inc.at[subjID, 'inclusion'] == 1:\n",
    "        inc.at[subjID, 'inclusion_gr'] = 1\n",
    "        m += 1"
   ]
  },
  {
   "cell_type": "code",
   "execution_count": 53,
   "metadata": {},
   "outputs": [
    {
     "data": {
      "text/plain": [
       "709"
      ]
     },
     "execution_count": 53,
     "metadata": {},
     "output_type": "execute_result"
    }
   ],
   "source": [
    "len(inc[inc['inclusion_gr'] ==1 ])"
   ]
  },
  {
   "cell_type": "code",
   "execution_count": 54,
   "metadata": {},
   "outputs": [],
   "source": [
    "inc.to_excel('../data/qualityControl_Bayrak_v04.xlsx')"
   ]
  },
  {
   "cell_type": "markdown",
   "metadata": {},
   "source": [
    "# save subject id's for gradient analysis"
   ]
  },
  {
   "cell_type": "code",
   "execution_count": 65,
   "metadata": {},
   "outputs": [],
   "source": [
    "f1 = open('../data/subjectListS900_QC_gr.txt', 'a')\n",
    "\n",
    "x = 0\n",
    "for subjID in mysubjects:\n",
    "    if inc.at[subjID, 'inclusion_gr'] == 1:\n",
    "        x += 1\n",
    "        f1.write(subjID + \"\\n\")\n",
    "f1.close()"
   ]
  },
  {
   "cell_type": "code",
   "execution_count": 66,
   "metadata": {},
   "outputs": [
    {
     "data": {
      "text/plain": [
       "709"
      ]
     },
     "execution_count": 66,
     "metadata": {},
     "output_type": "execute_result"
    }
   ],
   "source": [
    "x"
   ]
  },
  {
   "cell_type": "markdown",
   "metadata": {},
   "source": [
    "# final check"
   ]
  },
  {
   "cell_type": "code",
   "execution_count": 67,
   "metadata": {},
   "outputs": [],
   "source": [
    "filename = '../data/qualityControl_Bayrak_v04.xlsx'\n",
    "check    = pd.read_excel(filename, index_col=0)\n",
    "check.index = check.index.map(str)"
   ]
  },
  {
   "cell_type": "code",
   "execution_count": 68,
   "metadata": {},
   "outputs": [
    {
     "name": "stdout",
     "output_type": "stream",
     "text": [
      "111716\n",
      "148032\n",
      "149236\n",
      "154835\n",
      "162935\n",
      "167238\n",
      "171431\n",
      "180129\n",
      "192035\n",
      "195041\n",
      "197348\n",
      "204521\n",
      "211720\n",
      "284646\n",
      "309636\n",
      "310621\n",
      "391748\n",
      "429040\n",
      "436239\n",
      "449753\n",
      "525541\n",
      "599671\n",
      "615744\n",
      "617748\n",
      "715950\n",
      "727553\n",
      "735148\n",
      "773257\n",
      "786569\n",
      "837964\n",
      "843151\n"
     ]
    }
   ],
   "source": [
    "\n",
    "h = 0\n",
    "for subjID in check.index:\n",
    "    if check.at[subjID, 'inclusion'] == 1 and check.at[subjID, 'inclusion_gr'] != 1:\n",
    "        h += 1\n",
    "        \n",
    "        print(subjID)\n"
   ]
  },
  {
   "cell_type": "code",
   "execution_count": 69,
   "metadata": {},
   "outputs": [
    {
     "data": {
      "text/plain": [
       "31"
      ]
     },
     "execution_count": 69,
     "metadata": {},
     "output_type": "execute_result"
    }
   ],
   "source": [
    "h"
   ]
  },
  {
   "cell_type": "code",
   "execution_count": 61,
   "metadata": {},
   "outputs": [],
   "source": [
    "#check"
   ]
  },
  {
   "cell_type": "markdown",
   "metadata": {},
   "source": [
    "### add demographics"
   ]
  },
  {
   "cell_type": "code",
   "execution_count": 70,
   "metadata": {},
   "outputs": [
    {
     "data": {
      "text/plain": [
       "709"
      ]
     },
     "execution_count": 70,
     "metadata": {},
     "output_type": "execute_result"
    }
   ],
   "source": [
    "# get HCP - S900 subject list        \n",
    "subjlist = '../data/subjectListS900_QC_gr.txt'\n",
    "f = open(subjlist); mylist = f.read().split(\"\\n\"); f.close() \n",
    "subjlist = joinedlist = mylist[:-1]\n",
    "\n",
    "len(subjlist)"
   ]
  },
  {
   "cell_type": "code",
   "execution_count": 71,
   "metadata": {},
   "outputs": [
    {
     "name": "stderr",
     "output_type": "stream",
     "text": [
      "/data/u_bayrak_software/anaconda2/envs/hippoc/lib/python3.6/site-packages/ipykernel_launcher.py:1: DeprecationWarning: The default dtype for empty Series will be 'object' instead of 'float64' in a future version. Specify a dtype explicitly to silence this warning.\n",
      "  \"\"\"Entry point for launching an IPython kernel.\n"
     ]
    }
   ],
   "source": [
    "check['age'] = pd.Series(index=check.index)\n",
    "check['sex'] = np.nan \n",
    "check = check.astype({\"sex\": str}) "
   ]
  },
  {
   "cell_type": "code",
   "execution_count": 72,
   "metadata": {},
   "outputs": [],
   "source": [
    "HCP_u = pd.read_csv('../data/HCP_solar/HCP_s1200_unrestricted.csv', \n",
    "                    index_col = 0)\n",
    "\n",
    "HCP_u.index = HCP_u.index.map(str)\n",
    "\n",
    "HCP_r = pd.read_csv('../data/HCP_solar/HCP_s1200_restricted.csv', \n",
    "                    index_col = 0)\n",
    "\n",
    "HCP_r.index = HCP_r.index.map(str)"
   ]
  },
  {
   "cell_type": "code",
   "execution_count": 73,
   "metadata": {},
   "outputs": [],
   "source": [
    "female = 0\n",
    "\n",
    "for subjID in subjlist:\n",
    "    \n",
    "    iA = HCP_r.index.get_loc(subjID)\n",
    "    iB = HCP_u.index.get_loc(subjID)\n",
    "    iC = check.index.get_loc(subjID)\n",
    "\n",
    "    check.at[subjID, 'age'] = HCP_r.iloc[iA]['Age_in_Yrs']\n",
    "    check.at[subjID, 'sex'] = HCP_u.iloc[iB]['Gender']\n",
    "\n",
    "    if check.at[subjID, 'sex'] == 'F':\n",
    "        female += 1"
   ]
  },
  {
   "cell_type": "code",
   "execution_count": 74,
   "metadata": {},
   "outputs": [
    {
     "data": {
      "text/plain": [
       "(28.708039492242595, 3.7224627681932634)"
      ]
     },
     "execution_count": 74,
     "metadata": {},
     "output_type": "execute_result"
    }
   ],
   "source": [
    "check['age'].mean(), check['age'].std()"
   ]
  },
  {
   "cell_type": "code",
   "execution_count": 75,
   "metadata": {},
   "outputs": [
    {
     "data": {
      "text/plain": [
       "395"
      ]
     },
     "execution_count": 75,
     "metadata": {},
     "output_type": "execute_result"
    }
   ],
   "source": [
    "female"
   ]
  },
  {
   "cell_type": "code",
   "execution_count": 76,
   "metadata": {},
   "outputs": [],
   "source": [
    "check.to_excel('../data/qualityControl_Bayrak_v04.xlsx')"
   ]
  },
  {
   "cell_type": "code",
   "execution_count": null,
   "metadata": {},
   "outputs": [],
   "source": []
  }
 ],
 "metadata": {
  "kernelspec": {
   "display_name": "Python [conda env:hippoc] *",
   "language": "python",
   "name": "conda-env-hippoc-py"
  },
  "language_info": {
   "codemirror_mode": {
    "name": "ipython",
    "version": 3
   },
   "file_extension": ".py",
   "mimetype": "text/x-python",
   "name": "python",
   "nbconvert_exporter": "python",
   "pygments_lexer": "ipython3",
   "version": "3.6.10"
  }
 },
 "nbformat": 4,
 "nbformat_minor": 4
}
