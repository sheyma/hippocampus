{
 "cells": [
  {
   "cell_type": "code",
   "execution_count": 1,
   "metadata": {},
   "outputs": [],
   "source": [
    "import os\n",
    "import h5py\n",
    "import numpy as np\n",
    "import pandas as pd\n",
    "from scipy.io import loadmat\n",
    "from scipy.stats import pearsonr\n",
    "import nibabel as nb\n",
    "import seaborn as sns"
   ]
  },
  {
   "cell_type": "markdown",
   "metadata": {},
   "source": [
    "### get subject id's"
   ]
  },
  {
   "cell_type": "code",
   "execution_count": 2,
   "metadata": {},
   "outputs": [
    {
     "name": "stdout",
     "output_type": "stream",
     "text": [
      "709\n"
     ]
    }
   ],
   "source": [
    "# get HCP - S900 subject list        \n",
    "subjlist = '../data/subjectListS900_QC_gr.txt'\n",
    "f = open(subjlist); mylist = f.read().split(\"\\n\"); f.close() \n",
    "subjlist = joinedlist = mylist[:-1]\n",
    "\n",
    "len(subjlist)\n",
    "\n",
    "mysubjects = []\n",
    "\n",
    "for subj in subjlist:\n",
    "    mysubjects.append(subj)\n",
    "print(len(mysubjects))\n"
   ]
  },
  {
   "cell_type": "markdown",
   "metadata": {},
   "source": [
    "# prepare for solar, t1w-t2w ratios"
   ]
  },
  {
   "cell_type": "markdown",
   "metadata": {},
   "source": [
    "### get the HCP demographics"
   ]
  },
  {
   "cell_type": "code",
   "execution_count": 3,
   "metadata": {},
   "outputs": [],
   "source": [
    "HCP_u = pd.read_csv('../data/HCP_solar/HCP_s1200_unrestricted.csv', \n",
    "                    index_col = 0)\n",
    "\n",
    "HCP_u.index = HCP_u.index.map(str)\n",
    "\n",
    "HCP_r = pd.read_csv('../data/HCP_solar/HCP_s1200_restricted.csv', \n",
    "                    index_col = 0)\n",
    "\n",
    "HCP_r.index = HCP_r.index.map(str)\n"
   ]
  },
  {
   "cell_type": "code",
   "execution_count": 4,
   "metadata": {},
   "outputs": [
    {
     "data": {
      "text/plain": [
       "(1206, 1206)"
      ]
     },
     "execution_count": 4,
     "metadata": {},
     "output_type": "execute_result"
    }
   ],
   "source": [
    "len(HCP_u), len(HCP_r)"
   ]
  },
  {
   "cell_type": "code",
   "execution_count": 5,
   "metadata": {},
   "outputs": [
    {
     "data": {
      "text/plain": [
       "Index(['100004', '100206', '100307', '100408', '100610', '101006', '101107',\n",
       "       '101208', '101309', '101410',\n",
       "       ...\n",
       "       '987983', '989987', '990366', '991267', '992673', '992774', '993675',\n",
       "       '994273', '995174', '996782'],\n",
       "      dtype='object', name='Subject', length=1206)"
      ]
     },
     "execution_count": 5,
     "metadata": {},
     "output_type": "execute_result"
    }
   ],
   "source": [
    "HCP_r.index"
   ]
  },
  {
   "cell_type": "code",
   "execution_count": null,
   "metadata": {},
   "outputs": [],
   "source": []
  },
  {
   "cell_type": "markdown",
   "metadata": {},
   "source": [
    "# combine t1t2-ratios with HCP demogr."
   ]
  },
  {
   "cell_type": "markdown",
   "metadata": {},
   "source": [
    "### LSUB"
   ]
  },
  {
   "cell_type": "code",
   "execution_count": 11,
   "metadata": {},
   "outputs": [
    {
     "name": "stdout",
     "output_type": "stream",
     "text": [
      "709\n",
      "1024\n"
     ]
    },
    {
     "data": {
      "text/plain": [
       "('node_1', '....', 'node_1024')"
      ]
     },
     "execution_count": 11,
     "metadata": {},
     "output_type": "execute_result"
    }
   ],
   "source": [
    "mysubjects = []\n",
    "\n",
    "for subj in subjlist:\n",
    "    mysubjects.append(subj)\n",
    "print(len(mysubjects))\n",
    "\n",
    "\n",
    "tot_node_num_lsub = 1024 ## because subiculum has 1024 points \n",
    "node_str = []\n",
    "for i in range(1, tot_node_num_lsub+1):\n",
    "    node_str.append('node_'+ str(i))\n",
    "print(len(node_str))\n",
    "node_str[0], '....', node_str[-1]"
   ]
  },
  {
   "cell_type": "code",
   "execution_count": 12,
   "metadata": {},
   "outputs": [],
   "source": [
    "mycols = ['age', 'sex'] + node_str "
   ]
  },
  {
   "cell_type": "code",
   "execution_count": 8,
   "metadata": {},
   "outputs": [],
   "source": [
    "#mycols"
   ]
  },
  {
   "cell_type": "code",
   "execution_count": 13,
   "metadata": {},
   "outputs": [],
   "source": [
    "df = pd.DataFrame(index = mysubjects,\n",
    "                 columns = mycols)\n",
    "df.index.name = 'id'"
   ]
  },
  {
   "cell_type": "code",
   "execution_count": 14,
   "metadata": {},
   "outputs": [],
   "source": [
    "#df"
   ]
  },
  {
   "cell_type": "code",
   "execution_count": 15,
   "metadata": {},
   "outputs": [],
   "source": [
    "\n",
    "ddir = '../data/tout_T1wT2w_msm50/'\n",
    "\n",
    "for subjID in mysubjects:\n",
    "    \n",
    "    iA = HCP_r.index.get_loc(subjID)\n",
    "    iB = HCP_u.index.get_loc(subjID)\n",
    "    iC = df.index.get_loc(subjID)\n",
    "\n",
    "    df.iloc[iC]['age'] = HCP_r.iloc[iA]['Age_in_Yrs']\n",
    "    df.iloc[iC]['sex'] = HCP_u.iloc[iB]['Gender']\n",
    "\n",
    "    vol2hipp  = os.path.join(ddir, 'HCP_%s_t1t2_sub_left.h5' % (subjID))\n",
    "\n",
    "    h  = h5py.File(vol2hipp, 'r')\n",
    "    \n",
    "    df.iloc[iC][node_str] = np.array(h[subjID])\n",
    "\n",
    "    \n",
    "    "
   ]
  },
  {
   "cell_type": "code",
   "execution_count": 16,
   "metadata": {},
   "outputs": [],
   "source": [
    "#df"
   ]
  },
  {
   "cell_type": "code",
   "execution_count": 17,
   "metadata": {},
   "outputs": [
    {
     "data": {
      "text/plain": [
       "709"
      ]
     },
     "execution_count": 17,
     "metadata": {},
     "output_type": "execute_result"
    }
   ],
   "source": [
    "df = df.dropna()\n",
    "len(df)"
   ]
  },
  {
   "cell_type": "code",
   "execution_count": 18,
   "metadata": {},
   "outputs": [],
   "source": [
    "df.to_csv('../solar/solar_msm50_t1t2_lsub/t1t2_lsub.csv')"
   ]
  },
  {
   "cell_type": "markdown",
   "metadata": {},
   "source": [
    "### LCA"
   ]
  },
  {
   "cell_type": "code",
   "execution_count": 19,
   "metadata": {},
   "outputs": [
    {
     "name": "stdout",
     "output_type": "stream",
     "text": [
      "709\n",
      "2048\n"
     ]
    }
   ],
   "source": [
    "mysubjects = []\n",
    "\n",
    "for subj in subjlist:\n",
    "    mysubjects.append(subj)\n",
    "print(len(mysubjects))\n",
    "\n",
    "\n",
    "tot_node_num_lsub = 2048 ## because CA has 2048 points \n",
    "node_str = []\n",
    "for i in range(1, tot_node_num_lsub+1):\n",
    "    node_str.append('node_'+ str(i))\n",
    "print(len(node_str))\n",
    "node_str[0], '....', node_str[-1]\n",
    "\n",
    "mycols = ['age', 'sex'] + node_str \n",
    "\n",
    "df = pd.DataFrame(index = mysubjects,\n",
    "                 columns = mycols)\n",
    "df.index.name = 'id'"
   ]
  },
  {
   "cell_type": "code",
   "execution_count": 20,
   "metadata": {},
   "outputs": [],
   "source": [
    "ddir = '../data/tout_T1wT2w_msm50/'\n",
    "\n",
    "for subjID in mysubjects:\n",
    "    \n",
    "    iA = HCP_r.index.get_loc(subjID)\n",
    "    iB = HCP_u.index.get_loc(subjID)\n",
    "    iC = df.index.get_loc(subjID)\n",
    "\n",
    "    df.iloc[iC]['age'] = HCP_r.iloc[iA]['Age_in_Yrs']\n",
    "    df.iloc[iC]['sex'] = HCP_u.iloc[iB]['Gender']\n",
    "\n",
    "    vol2hipp  = os.path.join(ddir, 'HCP_%s_t1t2_ca_left.h5' % (subjID))\n",
    "\n",
    "    h  = h5py.File(vol2hipp, 'r')\n",
    "    \n",
    "    df.iloc[iC][node_str] = np.array(h[subjID])\n"
   ]
  },
  {
   "cell_type": "code",
   "execution_count": 21,
   "metadata": {},
   "outputs": [
    {
     "data": {
      "text/plain": [
       "709"
      ]
     },
     "execution_count": 21,
     "metadata": {},
     "output_type": "execute_result"
    }
   ],
   "source": [
    "df = df.dropna()\n",
    "len(df)"
   ]
  },
  {
   "cell_type": "code",
   "execution_count": 22,
   "metadata": {},
   "outputs": [],
   "source": [
    "df.to_csv('../solar/solar_msm50_t1t2_lca/t1t2_lca.csv')"
   ]
  },
  {
   "cell_type": "markdown",
   "metadata": {},
   "source": [
    "### LDG"
   ]
  },
  {
   "cell_type": "code",
   "execution_count": 26,
   "metadata": {},
   "outputs": [
    {
     "name": "stdout",
     "output_type": "stream",
     "text": [
      "709\n",
      "1024\n"
     ]
    }
   ],
   "source": [
    "mysubjects = []\n",
    "\n",
    "for subj in subjlist:\n",
    "    mysubjects.append(subj)\n",
    "print(len(mysubjects))\n",
    "\n",
    "\n",
    "tot_node_num_lsub = 1024 ## because CA has 2048 points \n",
    "node_str = []\n",
    "for i in range(1, tot_node_num_lsub+1):\n",
    "    node_str.append('node_'+ str(i))\n",
    "print(len(node_str))\n",
    "node_str[0], '....', node_str[-1]\n",
    "\n",
    "mycols = ['age', 'sex'] + node_str \n",
    "\n",
    "df = pd.DataFrame(index = mysubjects,\n",
    "                 columns = mycols)\n",
    "df.index.name = 'id'"
   ]
  },
  {
   "cell_type": "code",
   "execution_count": 27,
   "metadata": {},
   "outputs": [],
   "source": [
    "ddir = '../data/tout_T1wT2w_msm50/'\n",
    "\n",
    "for subjID in mysubjects:\n",
    "    \n",
    "    iA = HCP_r.index.get_loc(subjID)\n",
    "    iB = HCP_u.index.get_loc(subjID)\n",
    "    iC = df.index.get_loc(subjID)\n",
    "\n",
    "    df.iloc[iC]['age'] = HCP_r.iloc[iA]['Age_in_Yrs']\n",
    "    df.iloc[iC]['sex'] = HCP_u.iloc[iB]['Gender']\n",
    "\n",
    "    vol2hipp  = os.path.join(ddir, 'HCP_%s_t1t2_dg_left.h5' % (subjID))\n",
    "\n",
    "    h  = h5py.File(vol2hipp, 'r')\n",
    "    \n",
    "    df.iloc[iC][node_str] = np.array(h[subjID])\n"
   ]
  },
  {
   "cell_type": "code",
   "execution_count": 28,
   "metadata": {},
   "outputs": [
    {
     "data": {
      "text/plain": [
       "709"
      ]
     },
     "execution_count": 28,
     "metadata": {},
     "output_type": "execute_result"
    }
   ],
   "source": [
    "df = df.dropna()\n",
    "len(df)"
   ]
  },
  {
   "cell_type": "code",
   "execution_count": 29,
   "metadata": {},
   "outputs": [],
   "source": [
    "df.to_csv('../solar/solar_msm50_t1t2_ldg/t1t2_ldg.csv')"
   ]
  },
  {
   "cell_type": "markdown",
   "metadata": {},
   "source": [
    "### RSUB"
   ]
  },
  {
   "cell_type": "code",
   "execution_count": 30,
   "metadata": {},
   "outputs": [
    {
     "name": "stdout",
     "output_type": "stream",
     "text": [
      "709\n",
      "1024\n"
     ]
    }
   ],
   "source": [
    "mysubjects = []\n",
    "\n",
    "for subj in subjlist:\n",
    "    mysubjects.append(subj)\n",
    "print(len(mysubjects))\n",
    "\n",
    "\n",
    "tot_node_num_lsub = 1024 \n",
    "node_str = []\n",
    "for i in range(1, tot_node_num_lsub+1):\n",
    "    node_str.append('node_'+ str(i))\n",
    "print(len(node_str))\n",
    "node_str[0], '....', node_str[-1]\n",
    "\n",
    "mycols = ['age', 'sex'] + node_str \n",
    "\n",
    "df = pd.DataFrame(index = mysubjects,\n",
    "                 columns = mycols)\n",
    "df.index.name = 'id'"
   ]
  },
  {
   "cell_type": "code",
   "execution_count": 32,
   "metadata": {},
   "outputs": [],
   "source": [
    "ddir = '../data/tout_T1wT2w_msm50/'\n",
    "\n",
    "for subjID in mysubjects:\n",
    "    \n",
    "    iA = HCP_r.index.get_loc(subjID)\n",
    "    iB = HCP_u.index.get_loc(subjID)\n",
    "    iC = df.index.get_loc(subjID)\n",
    "\n",
    "    df.iloc[iC]['age'] = HCP_r.iloc[iA]['Age_in_Yrs']\n",
    "    df.iloc[iC]['sex'] = HCP_u.iloc[iB]['Gender']\n",
    "\n",
    "    vol2hipp  = os.path.join(ddir, 'HCP_%s_t1t2_sub_right.h5' % (subjID))\n",
    "\n",
    "    h  = h5py.File(vol2hipp, 'r')\n",
    "    \n",
    "    df.iloc[iC][node_str] = np.array(h[subjID])\n"
   ]
  },
  {
   "cell_type": "code",
   "execution_count": 33,
   "metadata": {},
   "outputs": [
    {
     "data": {
      "text/plain": [
       "709"
      ]
     },
     "execution_count": 33,
     "metadata": {},
     "output_type": "execute_result"
    }
   ],
   "source": [
    "df = df.dropna()\n",
    "len(df)"
   ]
  },
  {
   "cell_type": "code",
   "execution_count": 34,
   "metadata": {},
   "outputs": [],
   "source": [
    "df.to_csv('../solar/solar_msm50_t1t2_rsub/t1t2_rsub.csv')"
   ]
  },
  {
   "cell_type": "markdown",
   "metadata": {},
   "source": [
    "### RCA"
   ]
  },
  {
   "cell_type": "code",
   "execution_count": 35,
   "metadata": {},
   "outputs": [
    {
     "name": "stdout",
     "output_type": "stream",
     "text": [
      "709\n",
      "2048\n"
     ]
    }
   ],
   "source": [
    "mysubjects = []\n",
    "\n",
    "for subj in subjlist:\n",
    "    mysubjects.append(subj)\n",
    "print(len(mysubjects))\n",
    "\n",
    "\n",
    "tot_node_num_lsub = 2048\n",
    "node_str = []\n",
    "for i in range(1, tot_node_num_lsub+1):\n",
    "    node_str.append('node_'+ str(i))\n",
    "print(len(node_str))\n",
    "node_str[0], '....', node_str[-1]\n",
    "\n",
    "mycols = ['age', 'sex'] + node_str \n",
    "\n",
    "df = pd.DataFrame(index = mysubjects,\n",
    "                 columns = mycols)\n",
    "df.index.name = 'id'"
   ]
  },
  {
   "cell_type": "code",
   "execution_count": 36,
   "metadata": {},
   "outputs": [],
   "source": [
    "ddir = '../data/tout_T1wT2w_msm50/'\n",
    "\n",
    "for subjID in mysubjects:\n",
    "    \n",
    "    iA = HCP_r.index.get_loc(subjID)\n",
    "    iB = HCP_u.index.get_loc(subjID)\n",
    "    iC = df.index.get_loc(subjID)\n",
    "\n",
    "    df.iloc[iC]['age'] = HCP_r.iloc[iA]['Age_in_Yrs']\n",
    "    df.iloc[iC]['sex'] = HCP_u.iloc[iB]['Gender']\n",
    "\n",
    "    vol2hipp  = os.path.join(ddir, 'HCP_%s_t1t2_ca_right.h5' % (subjID))\n",
    "\n",
    "    h  = h5py.File(vol2hipp, 'r')\n",
    "    \n",
    "    df.iloc[iC][node_str] = np.array(h[subjID])\n"
   ]
  },
  {
   "cell_type": "code",
   "execution_count": 37,
   "metadata": {},
   "outputs": [
    {
     "data": {
      "text/plain": [
       "709"
      ]
     },
     "execution_count": 37,
     "metadata": {},
     "output_type": "execute_result"
    }
   ],
   "source": [
    "df = df.dropna()\n",
    "len(df)"
   ]
  },
  {
   "cell_type": "code",
   "execution_count": 38,
   "metadata": {},
   "outputs": [],
   "source": [
    "df.to_csv('../solar/solar_msm50_t1t2_rca/t1t2_rca.csv')"
   ]
  },
  {
   "cell_type": "markdown",
   "metadata": {},
   "source": [
    "### RDG"
   ]
  },
  {
   "cell_type": "code",
   "execution_count": 39,
   "metadata": {},
   "outputs": [
    {
     "name": "stdout",
     "output_type": "stream",
     "text": [
      "709\n",
      "1024\n"
     ]
    }
   ],
   "source": [
    "mysubjects = []\n",
    "\n",
    "for subj in subjlist:\n",
    "    mysubjects.append(subj)\n",
    "print(len(mysubjects))\n",
    "\n",
    "\n",
    "tot_node_num_lsub = 1024 \n",
    "node_str = []\n",
    "for i in range(1, tot_node_num_lsub+1):\n",
    "    node_str.append('node_'+ str(i))\n",
    "print(len(node_str))\n",
    "node_str[0], '....', node_str[-1]\n",
    "\n",
    "mycols = ['age', 'sex'] + node_str \n",
    "\n",
    "df = pd.DataFrame(index = mysubjects,\n",
    "                 columns = mycols)\n",
    "df.index.name = 'id'"
   ]
  },
  {
   "cell_type": "code",
   "execution_count": 40,
   "metadata": {},
   "outputs": [],
   "source": [
    "ddir = '../data/tout_T1wT2w_msm50/'\n",
    "\n",
    "for subjID in mysubjects:\n",
    "    \n",
    "    iA = HCP_r.index.get_loc(subjID)\n",
    "    iB = HCP_u.index.get_loc(subjID)\n",
    "    iC = df.index.get_loc(subjID)\n",
    "\n",
    "    df.iloc[iC]['age'] = HCP_r.iloc[iA]['Age_in_Yrs']\n",
    "    df.iloc[iC]['sex'] = HCP_u.iloc[iB]['Gender']\n",
    "\n",
    "    vol2hipp  = os.path.join(ddir, 'HCP_%s_t1t2_dg_right.h5' % (subjID))\n",
    "\n",
    "    h  = h5py.File(vol2hipp, 'r')\n",
    "    \n",
    "    df.iloc[iC][node_str] = np.array(h[subjID])\n"
   ]
  },
  {
   "cell_type": "code",
   "execution_count": 41,
   "metadata": {},
   "outputs": [
    {
     "data": {
      "text/plain": [
       "709"
      ]
     },
     "execution_count": 41,
     "metadata": {},
     "output_type": "execute_result"
    }
   ],
   "source": [
    "df = df.dropna()\n",
    "len(df)"
   ]
  },
  {
   "cell_type": "code",
   "execution_count": 42,
   "metadata": {},
   "outputs": [],
   "source": [
    "df.to_csv('../solar/solar_msm50_t1t2_rdg/t1t2_rdg.csv')"
   ]
  },
  {
   "cell_type": "code",
   "execution_count": null,
   "metadata": {},
   "outputs": [],
   "source": []
  }
 ],
 "metadata": {
  "kernelspec": {
   "display_name": "Python [conda env:surfstat]",
   "language": "python",
   "name": "conda-env-surfstat-py"
  },
  "language_info": {
   "codemirror_mode": {
    "name": "ipython",
    "version": 3
   },
   "file_extension": ".py",
   "mimetype": "text/x-python",
   "name": "python",
   "nbconvert_exporter": "python",
   "pygments_lexer": "ipython3",
   "version": "3.6.10"
  }
 },
 "nbformat": 4,
 "nbformat_minor": 4
}
